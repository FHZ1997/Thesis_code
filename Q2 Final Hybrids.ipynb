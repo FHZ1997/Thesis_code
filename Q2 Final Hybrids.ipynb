{
 "cells": [
  {
   "cell_type": "code",
   "execution_count": 2,
   "id": "e4672eca",
   "metadata": {},
   "outputs": [],
   "source": [
    "#Import the required dataset\n",
    "data = pd.read_excel(\"Telco_customer_churn.xlsx\")\n",
    "demo = pd.read_excel(\"Telco_customer_churn_demographics copy.xlsx\")\n",
    "serv = pd.read_excel(\"Telco_customer_churn_services.xlsx\")\n",
    "\n",
    "#Renaming, merging, and dropping columns\n",
    "data = data.rename(columns = {\"CustomerID\" : \"Customer ID\"})\n",
    "data = pd.merge(data, demo[['Customer ID','Age', 'Married']], on = \"Customer ID\")\n",
    "data = pd.merge(data, serv[['Customer ID', 'Number of Referrals', 'Avg Monthly GB Download', 'Streaming Music', 'Unlimited Data', 'Total Refunds', 'Total Extra Data Charges', 'Total Long Distance Charges']], on = 'Customer ID')\n",
    "data = data.drop(columns = [\"City\", \"Lat Long\", \"Count\", \"Country\", \"State\", \"Churn Reason\", 'Total Charges', 'Churn Label'])\n",
    "data = pd.merge(data, serv[['Customer ID','Total Charges', 'Total Revenue']], on = \"Customer ID\")\n",
    "data = data.drop(columns = ['Customer ID'])\n",
    "\n",
    "#Re-arranging the columns\n",
    "cols = list(data.columns.values)\n",
    "cols = ['Zip Code','Latitude','Longitude','Gender','Senior Citizen','Partner','Dependents','Tenure Months',\n",
    " 'Phone Service','Multiple Lines','Internet Service','Online Security','Online Backup','Device Protection',\n",
    " 'Tech Support','Streaming TV','Streaming Movies','Contract','Paperless Billing','Payment Method','Monthly Charges',\n",
    " 'Churn Score','CLTV','Age','Married','Number of Referrals','Avg Monthly GB Download','Streaming Music',\n",
    " 'Unlimited Data','Total Refunds','Total Extra Data Charges','Total Long Distance Charges','Total Charges',\n",
    " 'Total Revenue','Churn Value']\n",
    "data = data[cols]"
   ]
  },
  {
   "cell_type": "code",
   "execution_count": 3,
   "id": "cceba642",
   "metadata": {},
   "outputs": [],
   "source": [
    "#Split features from target variable\n",
    "x = data.iloc[:, :34]\n",
    "y = data.iloc[: , -1]"
   ]
  },
  {
   "cell_type": "code",
   "execution_count": 4,
   "id": "9672ea78",
   "metadata": {},
   "outputs": [],
   "source": [
    "x_train, x_test, y_train, y_test = train_test_split(x, y,\n",
    "                                                    stratify=y, \n",
    "                                                    test_size=0.20, random_state = 50)"
   ]
  },
  {
   "cell_type": "code",
   "execution_count": 5,
   "id": "bba87de8",
   "metadata": {},
   "outputs": [
    {
     "data": {
      "text/plain": [
       "0    4139\n",
       "1    1495\n",
       "Name: Churn Value, dtype: int64"
      ]
     },
     "execution_count": 5,
     "metadata": {},
     "output_type": "execute_result"
    }
   ],
   "source": [
    "y_train.value_counts()"
   ]
  },
  {
   "cell_type": "code",
   "execution_count": 6,
   "id": "6b36fef8",
   "metadata": {},
   "outputs": [],
   "source": [
    "oversample = SMOTENC(categorical_features = [3,4,5,6,8,9,10,11,12,13,14,15,16,17,18,19,24,27,28])\n",
    "x_train, y_train = oversample.fit_resample(x_train, y_train)"
   ]
  },
  {
   "cell_type": "code",
   "execution_count": 7,
   "id": "b1191e25",
   "metadata": {},
   "outputs": [
    {
     "data": {
      "text/plain": [
       "0    4139\n",
       "1    4139\n",
       "Name: Churn Value, dtype: int64"
      ]
     },
     "execution_count": 7,
     "metadata": {},
     "output_type": "execute_result"
    }
   ],
   "source": [
    "y_train.value_counts()"
   ]
  },
  {
   "cell_type": "code",
   "execution_count": 8,
   "id": "1a1929b8",
   "metadata": {},
   "outputs": [],
   "source": [
    "x_train.to_csv(r'x_train_q2.csv', index = False, header = True)\n",
    "x_test.to_csv(r'x_test_q2.csv', index = False, header = True)"
   ]
  },
  {
   "cell_type": "code",
   "execution_count": 9,
   "id": "61df37c4",
   "metadata": {},
   "outputs": [],
   "source": [
    "#Train sets (x)\n",
    "FAMD_train_16 = pd.read_excel(\"FAMD_train_16_q2.xlsx\")\n",
    "\n",
    "#Test sets (x)\n",
    "FAMD_test_16 = pd.read_excel(\"FAMD_test_16_q2.xlsx\")"
   ]
  },
  {
   "cell_type": "code",
   "execution_count": 10,
   "id": "d2776bf8",
   "metadata": {},
   "outputs": [
    {
     "name": "stdout",
     "output_type": "stream",
     "text": [
      "For n_clusters = 2, silhouette score is 0.29076906208469033)\n",
      "For n_clusters = 3, silhouette score is 0.22751900600825195)\n",
      "For n_clusters = 4, silhouette score is 0.2329947739959302)\n",
      "For n_clusters = 5, silhouette score is 0.18400038508876798)\n",
      "For n_clusters = 6, silhouette score is 0.17625507370743165)\n",
      "For n_clusters = 7, silhouette score is 0.13001012103225323)\n",
      "For n_clusters = 8, silhouette score is 0.1274789233167387)\n"
     ]
    }
   ],
   "source": [
    "range_n_clusters = list (range(2,9))\n",
    "for n_clusters in range_n_clusters:\n",
    "    clusterer = KMeans(n_clusters=n_clusters)\n",
    "    preds = clusterer.fit_predict(FAMD_test_16)\n",
    "    centers = clusterer.cluster_centers_\n",
    "    score = silhouette_score(FAMD_test_16, preds)\n",
    "    print(\"For n_clusters = {}, silhouette score is {})\".format(n_clusters, score))"
   ]
  },
  {
   "cell_type": "code",
   "execution_count": 11,
   "id": "00736e55",
   "metadata": {},
   "outputs": [],
   "source": [
    "kmeans = KMeans(n_clusters=2)\n",
    "train_clusters = kmeans.fit(FAMD_train_16)\n",
    "test_clusters = train_clusters.predict(FAMD_test_16)"
   ]
  },
  {
   "cell_type": "code",
   "execution_count": 12,
   "id": "b3a2a309",
   "metadata": {},
   "outputs": [],
   "source": [
    "FAMD_train_16['cluster'] = train_clusters.labels_\n",
    "FAMD_test_16['cluster'] = test_clusters"
   ]
  },
  {
   "cell_type": "markdown",
   "id": "e4ed2a1f",
   "metadata": {},
   "source": [
    "# SVM hybrid"
   ]
  },
  {
   "cell_type": "code",
   "execution_count": 13,
   "id": "e04f7287",
   "metadata": {},
   "outputs": [
    {
     "name": "stdout",
     "output_type": "stream",
     "text": [
      "Best: 0.923582 using {'C': 10, 'kernel': 'rbf'}\n",
      "0.913604 (0.010554) with: {'C': 50, 'kernel': 'poly'}\n",
      "0.916463 (0.008444) with: {'C': 50, 'kernel': 'rbf'}\n",
      "0.840643 (0.009336) with: {'C': 50, 'kernel': 'sigmoid'}\n",
      "0.915353 (0.009372) with: {'C': 10, 'kernel': 'poly'}\n",
      "0.923582 (0.008140) with: {'C': 10, 'kernel': 'rbf'}\n",
      "0.840842 (0.009197) with: {'C': 10, 'kernel': 'sigmoid'}\n",
      "0.911683 (0.009780) with: {'C': 1.0, 'kernel': 'poly'}\n",
      "0.921107 (0.009782) with: {'C': 1.0, 'kernel': 'rbf'}\n",
      "0.848384 (0.013269) with: {'C': 1.0, 'kernel': 'sigmoid'}\n",
      "0.885264 (0.011709) with: {'C': 0.1, 'kernel': 'poly'}\n",
      "0.903410 (0.010548) with: {'C': 0.1, 'kernel': 'rbf'}\n",
      "0.879655 (0.012221) with: {'C': 0.1, 'kernel': 'sigmoid'}\n",
      "0.806736 (0.010507) with: {'C': 0.01, 'kernel': 'poly'}\n",
      "0.860316 (0.010104) with: {'C': 0.01, 'kernel': 'rbf'}\n",
      "0.878492 (0.012191) with: {'C': 0.01, 'kernel': 'sigmoid'}\n"
     ]
    }
   ],
   "source": [
    "svm_model = svm.SVC()\n",
    "kernel = ['poly', 'rbf', 'sigmoid']\n",
    "C = [50, 10, 1.0, 0.1, 0.01]\n",
    "\n",
    "# define grid search\n",
    "grid = dict(kernel=kernel,C=C)\n",
    "cv = StratifiedKFold(n_splits=10, shuffle=True)\n",
    "grid_search = GridSearchCV(estimator=svm_model, param_grid=grid, n_jobs=-1, cv=cv, scoring='f1',error_score=0)\n",
    "grid_result = grid_search.fit(FAMD_train_16, y_train)\n",
    "\n",
    "# summarize results\n",
    "print(\"Best: %f using %s\" % (grid_result.best_score_, grid_result.best_params_))\n",
    "means = grid_result.cv_results_['mean_test_score']\n",
    "stds = grid_result.cv_results_['std_test_score']\n",
    "params = grid_result.cv_results_['params']\n",
    "for mean, stdev, param in zip(means, stds, params):\n",
    "    print(\"%f (%f) with: %r\" % (mean, stdev, param))"
   ]
  },
  {
   "cell_type": "code",
   "execution_count": 14,
   "id": "256b7fa3",
   "metadata": {},
   "outputs": [
    {
     "name": "stdout",
     "output_type": "stream",
     "text": [
      "              precision    recall  f1-score   support\n",
      "\n",
      "           0       0.84      0.61      0.71      1035\n",
      "           1       0.39      0.68      0.50       374\n",
      "\n",
      "    accuracy                           0.63      1409\n",
      "   macro avg       0.62      0.65      0.60      1409\n",
      "weighted avg       0.72      0.63      0.65      1409\n",
      "\n"
     ]
    }
   ],
   "source": [
    "svm_model = svm.SVC(C = 10, kernel = \"rbf\")\n",
    "svm_model.fit(FAMD_train_16, y_train)\n",
    "y_pred = svm_model.predict(FAMD_test_16)\n",
    "print(classification_report(y_test, y_pred))"
   ]
  },
  {
   "cell_type": "markdown",
   "id": "5132ba54",
   "metadata": {},
   "source": [
    "# KNN hybrid"
   ]
  },
  {
   "cell_type": "code",
   "execution_count": 15,
   "id": "22160cb3",
   "metadata": {},
   "outputs": [
    {
     "name": "stdout",
     "output_type": "stream",
     "text": [
      "Best: 0.893160 using {'metric': 'euclidean', 'n_neighbors': 7, 'weights': 'distance'}\n",
      "0.865706 (0.010121) with: {'metric': 'euclidean', 'n_neighbors': 1, 'weights': 'uniform'}\n",
      "0.865706 (0.010121) with: {'metric': 'euclidean', 'n_neighbors': 1, 'weights': 'distance'}\n",
      "0.884142 (0.009733) with: {'metric': 'euclidean', 'n_neighbors': 3, 'weights': 'uniform'}\n",
      "0.885599 (0.008367) with: {'metric': 'euclidean', 'n_neighbors': 3, 'weights': 'distance'}\n",
      "0.888001 (0.008065) with: {'metric': 'euclidean', 'n_neighbors': 5, 'weights': 'uniform'}\n",
      "0.890179 (0.008393) with: {'metric': 'euclidean', 'n_neighbors': 5, 'weights': 'distance'}\n",
      "0.890580 (0.008795) with: {'metric': 'euclidean', 'n_neighbors': 7, 'weights': 'uniform'}\n",
      "0.893160 (0.009505) with: {'metric': 'euclidean', 'n_neighbors': 7, 'weights': 'distance'}\n",
      "0.890140 (0.009792) with: {'metric': 'euclidean', 'n_neighbors': 9, 'weights': 'uniform'}\n",
      "0.892566 (0.010578) with: {'metric': 'euclidean', 'n_neighbors': 9, 'weights': 'distance'}\n",
      "0.888906 (0.006975) with: {'metric': 'euclidean', 'n_neighbors': 11, 'weights': 'uniform'}\n",
      "0.892347 (0.008090) with: {'metric': 'euclidean', 'n_neighbors': 11, 'weights': 'distance'}\n",
      "0.886356 (0.006926) with: {'metric': 'euclidean', 'n_neighbors': 13, 'weights': 'uniform'}\n",
      "0.890531 (0.007232) with: {'metric': 'euclidean', 'n_neighbors': 13, 'weights': 'distance'}\n",
      "0.887505 (0.006979) with: {'metric': 'euclidean', 'n_neighbors': 15, 'weights': 'uniform'}\n",
      "0.890086 (0.008673) with: {'metric': 'euclidean', 'n_neighbors': 15, 'weights': 'distance'}\n",
      "0.885934 (0.004852) with: {'metric': 'euclidean', 'n_neighbors': 17, 'weights': 'uniform'}\n",
      "0.888199 (0.006252) with: {'metric': 'euclidean', 'n_neighbors': 17, 'weights': 'distance'}\n",
      "0.885107 (0.004072) with: {'metric': 'euclidean', 'n_neighbors': 19, 'weights': 'uniform'}\n",
      "0.887693 (0.005110) with: {'metric': 'euclidean', 'n_neighbors': 19, 'weights': 'distance'}\n",
      "0.865147 (0.010621) with: {'metric': 'manhattan', 'n_neighbors': 1, 'weights': 'uniform'}\n",
      "0.865147 (0.010621) with: {'metric': 'manhattan', 'n_neighbors': 1, 'weights': 'distance'}\n",
      "0.881721 (0.009478) with: {'metric': 'manhattan', 'n_neighbors': 3, 'weights': 'uniform'}\n",
      "0.882354 (0.009034) with: {'metric': 'manhattan', 'n_neighbors': 3, 'weights': 'distance'}\n",
      "0.887962 (0.009697) with: {'metric': 'manhattan', 'n_neighbors': 5, 'weights': 'uniform'}\n",
      "0.889155 (0.010043) with: {'metric': 'manhattan', 'n_neighbors': 5, 'weights': 'distance'}\n",
      "0.890510 (0.009350) with: {'metric': 'manhattan', 'n_neighbors': 7, 'weights': 'uniform'}\n",
      "0.892143 (0.010032) with: {'metric': 'manhattan', 'n_neighbors': 7, 'weights': 'distance'}\n",
      "0.888321 (0.010971) with: {'metric': 'manhattan', 'n_neighbors': 9, 'weights': 'uniform'}\n",
      "0.890782 (0.010494) with: {'metric': 'manhattan', 'n_neighbors': 9, 'weights': 'distance'}\n",
      "0.888461 (0.009779) with: {'metric': 'manhattan', 'n_neighbors': 11, 'weights': 'uniform'}\n",
      "0.890611 (0.010566) with: {'metric': 'manhattan', 'n_neighbors': 11, 'weights': 'distance'}\n",
      "0.888190 (0.009206) with: {'metric': 'manhattan', 'n_neighbors': 13, 'weights': 'uniform'}\n",
      "0.890003 (0.009231) with: {'metric': 'manhattan', 'n_neighbors': 13, 'weights': 'distance'}\n",
      "0.886262 (0.007769) with: {'metric': 'manhattan', 'n_neighbors': 15, 'weights': 'uniform'}\n",
      "0.889106 (0.007659) with: {'metric': 'manhattan', 'n_neighbors': 15, 'weights': 'distance'}\n",
      "0.886890 (0.006652) with: {'metric': 'manhattan', 'n_neighbors': 17, 'weights': 'uniform'}\n",
      "0.889384 (0.006561) with: {'metric': 'manhattan', 'n_neighbors': 17, 'weights': 'distance'}\n",
      "0.885658 (0.006428) with: {'metric': 'manhattan', 'n_neighbors': 19, 'weights': 'uniform'}\n",
      "0.889527 (0.006473) with: {'metric': 'manhattan', 'n_neighbors': 19, 'weights': 'distance'}\n",
      "0.865706 (0.010121) with: {'metric': 'minkowski', 'n_neighbors': 1, 'weights': 'uniform'}\n",
      "0.865706 (0.010121) with: {'metric': 'minkowski', 'n_neighbors': 1, 'weights': 'distance'}\n",
      "0.884142 (0.009733) with: {'metric': 'minkowski', 'n_neighbors': 3, 'weights': 'uniform'}\n",
      "0.885599 (0.008367) with: {'metric': 'minkowski', 'n_neighbors': 3, 'weights': 'distance'}\n",
      "0.888001 (0.008065) with: {'metric': 'minkowski', 'n_neighbors': 5, 'weights': 'uniform'}\n",
      "0.890179 (0.008393) with: {'metric': 'minkowski', 'n_neighbors': 5, 'weights': 'distance'}\n",
      "0.890580 (0.008795) with: {'metric': 'minkowski', 'n_neighbors': 7, 'weights': 'uniform'}\n",
      "0.893160 (0.009505) with: {'metric': 'minkowski', 'n_neighbors': 7, 'weights': 'distance'}\n",
      "0.890140 (0.009792) with: {'metric': 'minkowski', 'n_neighbors': 9, 'weights': 'uniform'}\n",
      "0.892566 (0.010578) with: {'metric': 'minkowski', 'n_neighbors': 9, 'weights': 'distance'}\n",
      "0.888906 (0.006975) with: {'metric': 'minkowski', 'n_neighbors': 11, 'weights': 'uniform'}\n",
      "0.892347 (0.008090) with: {'metric': 'minkowski', 'n_neighbors': 11, 'weights': 'distance'}\n",
      "0.886356 (0.006926) with: {'metric': 'minkowski', 'n_neighbors': 13, 'weights': 'uniform'}\n",
      "0.890531 (0.007232) with: {'metric': 'minkowski', 'n_neighbors': 13, 'weights': 'distance'}\n",
      "0.887505 (0.006979) with: {'metric': 'minkowski', 'n_neighbors': 15, 'weights': 'uniform'}\n",
      "0.890086 (0.008673) with: {'metric': 'minkowski', 'n_neighbors': 15, 'weights': 'distance'}\n",
      "0.885934 (0.004852) with: {'metric': 'minkowski', 'n_neighbors': 17, 'weights': 'uniform'}\n",
      "0.888199 (0.006252) with: {'metric': 'minkowski', 'n_neighbors': 17, 'weights': 'distance'}\n",
      "0.885107 (0.004072) with: {'metric': 'minkowski', 'n_neighbors': 19, 'weights': 'uniform'}\n",
      "0.887693 (0.005110) with: {'metric': 'minkowski', 'n_neighbors': 19, 'weights': 'distance'}\n"
     ]
    }
   ],
   "source": [
    "# define models and parameters\n",
    "knn_model = KNeighborsClassifier()\n",
    "n_neighbors = range(1, 21, 2)\n",
    "weights = ['uniform', 'distance']\n",
    "metric = ['euclidean', 'manhattan', 'minkowski']\n",
    "# define grid search\n",
    "grid = dict(n_neighbors=n_neighbors,weights=weights,metric=metric)\n",
    "cv = StratifiedKFold(n_splits=10, shuffle=True)\n",
    "grid_search = GridSearchCV(estimator=knn_model, param_grid=grid, n_jobs=-1, cv=cv, scoring='f1',error_score=0)\n",
    "grid_result = grid_search.fit(FAMD_train_16, y_train)\n",
    "# summarize results\n",
    "print(\"Best: %f using %s\" % (grid_result.best_score_, grid_result.best_params_))\n",
    "means = grid_result.cv_results_['mean_test_score']\n",
    "stds = grid_result.cv_results_['std_test_score']\n",
    "params = grid_result.cv_results_['params']\n",
    "for mean, stdev, param in zip(means, stds, params):\n",
    "    print(\"%f (%f) with: %r\" % (mean, stdev, param))"
   ]
  },
  {
   "cell_type": "code",
   "execution_count": 16,
   "id": "62f5f591",
   "metadata": {},
   "outputs": [
    {
     "name": "stdout",
     "output_type": "stream",
     "text": [
      "              precision    recall  f1-score   support\n",
      "\n",
      "           0       0.91      0.59      0.71      1035\n",
      "           1       0.42      0.84      0.56       374\n",
      "\n",
      "    accuracy                           0.65      1409\n",
      "   macro avg       0.67      0.71      0.64      1409\n",
      "weighted avg       0.78      0.65      0.67      1409\n",
      "\n"
     ]
    }
   ],
   "source": [
    "knn_model = KNeighborsClassifier(metric = \"euclidean\", n_neighbors = 7, weights = \"distance\")\n",
    "knn_model.fit(FAMD_train_16, y_train)\n",
    "y_pred = knn_model.predict(FAMD_test_16)\n",
    "print(classification_report(y_test, y_pred))"
   ]
  }
 ],
 "metadata": {
  "kernelspec": {
   "display_name": "Python 3 (ipykernel)",
   "language": "python",
   "name": "python3"
  },
  "language_info": {
   "codemirror_mode": {
    "name": "ipython",
    "version": 3
   },
   "file_extension": ".py",
   "mimetype": "text/x-python",
   "name": "python",
   "nbconvert_exporter": "python",
   "pygments_lexer": "ipython3",
   "version": "3.8.3"
  }
 },
 "nbformat": 4,
 "nbformat_minor": 5
}
