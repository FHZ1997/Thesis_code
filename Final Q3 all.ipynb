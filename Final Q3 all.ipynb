{
 "cells": [
  {
   "cell_type": "code",
   "execution_count": 1,
   "id": "9e422893",
   "metadata": {},
   "outputs": [],
   "source": [
    "import pandas as pd\n",
    "import numpy as np\n",
    "from sklearn.dummy import DummyClassifier\n",
    "from sklearn.model_selection import train_test_split\n",
    "import imblearn\n",
    "from imblearn.over_sampling import SMOTE\n",
    "from imblearn.over_sampling import SMOTENC\n",
    "from sklearn.preprocessing import StandardScaler\n",
    "from sklearn import svm\n",
    "from sklearn.neighbors import KNeighborsClassifier\n",
    "from sklearn.model_selection import StratifiedKFold\n",
    "from statistics import mean\n",
    "from sklearn.model_selection import cross_val_score\n",
    "from sklearn.decomposition import PCA\n",
    "from sklearn.cluster import KMeans\n",
    "from sklearn import metrics\n",
    "from sklearn.model_selection import GridSearchCV\n",
    "from sklearn.metrics import classification_report\n",
    "from sklearn.metrics import silhouette_score\n",
    "from sklearn.metrics import confusion_matrix\n",
    "import matplotlib.pyplot as plt\n",
    "from sklearn.metrics import ConfusionMatrixDisplay\n",
    "from sklearn.metrics import plot_confusion_matrix\n",
    "import seaborn as sn\n",
    "from sklearn.model_selection import cross_validate"
   ]
  },
  {
   "cell_type": "code",
   "execution_count": 2,
   "id": "d6bc0756",
   "metadata": {},
   "outputs": [],
   "source": [
    "#Import the required dataset\n",
    "data = pd.read_excel(\"Telco_customer_churn.xlsx\")\n",
    "demo = pd.read_excel(\"Telco_customer_churn_demographics copy.xlsx\")\n",
    "serv = pd.read_excel(\"Telco_customer_churn_services.xlsx\")\n",
    "\n",
    "#Renaming, merging, and dropping columns\n",
    "data = data.rename(columns = {\"CustomerID\" : \"Customer ID\"})\n",
    "data = pd.merge(data, demo[['Customer ID','Age', 'Married']], on = \"Customer ID\")\n",
    "data = pd.merge(data, serv[['Customer ID', 'Number of Referrals', 'Avg Monthly GB Download', 'Streaming Music', 'Unlimited Data', 'Total Refunds', 'Total Extra Data Charges', 'Total Long Distance Charges']], on = 'Customer ID')\n",
    "data = data.drop(columns = [\"City\", \"Lat Long\", \"Count\", \"Country\", \"State\", \"Churn Reason\", 'Total Charges', 'Churn Label'])\n",
    "data = pd.merge(data, serv[['Customer ID','Total Charges', 'Total Revenue']], on = \"Customer ID\")\n",
    "data = data.drop(columns = ['Customer ID'])\n",
    "\n",
    "#Re-arranging the columns\n",
    "cols = list(data.columns.values)\n",
    "cols = ['Zip Code','Latitude','Longitude','Gender','Senior Citizen','Partner','Dependents','Tenure Months',\n",
    " 'Phone Service','Multiple Lines','Internet Service','Online Security','Online Backup','Device Protection',\n",
    " 'Tech Support','Streaming TV','Streaming Movies','Contract','Paperless Billing','Payment Method','Monthly Charges',\n",
    " 'Churn Score','CLTV','Age','Married','Number of Referrals','Avg Monthly GB Download','Streaming Music',\n",
    " 'Unlimited Data','Total Refunds','Total Extra Data Charges','Total Long Distance Charges','Total Charges',\n",
    " 'Total Revenue','Churn Value']\n",
    "data = data[cols]"
   ]
  },
  {
   "cell_type": "code",
   "execution_count": 3,
   "id": "c08a783b",
   "metadata": {},
   "outputs": [],
   "source": [
    "#Split features from target variable\n",
    "x = data.iloc[:, :34]\n",
    "y = data.iloc[: , -1]"
   ]
  },
  {
   "cell_type": "code",
   "execution_count": 4,
   "id": "5e40851c",
   "metadata": {},
   "outputs": [],
   "source": [
    "x_rest, x_test, y_rest, y_test = train_test_split(x, y,\n",
    "                                                    stratify=y, \n",
    "                                                    test_size=0.20)"
   ]
  },
  {
   "cell_type": "code",
   "execution_count": 5,
   "id": "2833a515",
   "metadata": {},
   "outputs": [],
   "source": [
    "x_train_70p, x_test_70p, y_train_70p, y_test_70p = train_test_split(x_rest, y_rest,\n",
    "                                                    stratify=y_rest, \n",
    "                                                    test_size=0.125)\n",
    "x_train_60p, x_test_60p, y_train_60p, y_test_60p = train_test_split(x_rest, y_rest,\n",
    "                                                    stratify=y_rest, \n",
    "                                                    test_size=0.250)\n",
    "x_train_50p, x_test_50p, y_train_50p, y_test_50p = train_test_split(x_rest, y_rest,\n",
    "                                                    stratify=y_rest, \n",
    "                                                    test_size=0.375)\n",
    "x_train_40p, x_test_40p, y_train_40p, y_test_40p = train_test_split(x_rest, y_rest,\n",
    "                                                    stratify=y_rest, \n",
    "                                                    test_size=0.500)\n",
    "x_train_30p, x_test_30p, y_train_30p, y_test_30p = train_test_split(x_rest, y_rest,\n",
    "                                                    stratify=y_rest, \n",
    "                                                    test_size=0.625)\n",
    "x_train_20p, x_test_20p, y_train_20p, y_test_20p = train_test_split(x_rest, y_rest,\n",
    "                                                    stratify=y_rest, \n",
    "                                                    test_size=0.750)\n",
    "x_train_10p, x_test_10p, y_train_10p, y_test_10p = train_test_split(x_rest, y_rest,\n",
    "                                                    stratify=y_rest, \n",
    "                                                    test_size=0.875)"
   ]
  },
  {
   "cell_type": "markdown",
   "id": "dddb8584",
   "metadata": {},
   "source": [
    "Baselines"
   ]
  },
  {
   "cell_type": "code",
   "execution_count": 81,
   "id": "57968622",
   "metadata": {},
   "outputs": [
    {
     "name": "stdout",
     "output_type": "stream",
     "text": [
      "              precision    recall  f1-score   support\n",
      "\n",
      "           0       0.73      1.00      0.85      1035\n",
      "           1       0.00      0.00      0.00       374\n",
      "\n",
      "    accuracy                           0.73      1409\n",
      "   macro avg       0.37      0.50      0.42      1409\n",
      "weighted avg       0.54      0.73      0.62      1409\n",
      "\n",
      "              precision    recall  f1-score   support\n",
      "\n",
      "           0       0.73      1.00      0.85      1035\n",
      "           1       0.00      0.00      0.00       374\n",
      "\n",
      "    accuracy                           0.73      1409\n",
      "   macro avg       0.37      0.50      0.42      1409\n",
      "weighted avg       0.54      0.73      0.62      1409\n",
      "\n",
      "              precision    recall  f1-score   support\n",
      "\n",
      "           0       0.73      1.00      0.85      1035\n",
      "           1       0.00      0.00      0.00       374\n",
      "\n",
      "    accuracy                           0.73      1409\n",
      "   macro avg       0.37      0.50      0.42      1409\n",
      "weighted avg       0.54      0.73      0.62      1409\n",
      "\n",
      "              precision    recall  f1-score   support\n",
      "\n",
      "           0       0.73      1.00      0.85      1035\n",
      "           1       0.00      0.00      0.00       374\n",
      "\n",
      "    accuracy                           0.73      1409\n",
      "   macro avg       0.37      0.50      0.42      1409\n",
      "weighted avg       0.54      0.73      0.62      1409\n",
      "\n",
      "              precision    recall  f1-score   support\n",
      "\n",
      "           0       0.73      1.00      0.85      1035\n",
      "           1       0.00      0.00      0.00       374\n",
      "\n",
      "    accuracy                           0.73      1409\n",
      "   macro avg       0.37      0.50      0.42      1409\n",
      "weighted avg       0.54      0.73      0.62      1409\n",
      "\n",
      "              precision    recall  f1-score   support\n",
      "\n",
      "           0       0.73      1.00      0.85      1035\n",
      "           1       0.00      0.00      0.00       374\n",
      "\n",
      "    accuracy                           0.73      1409\n",
      "   macro avg       0.37      0.50      0.42      1409\n",
      "weighted avg       0.54      0.73      0.62      1409\n",
      "\n",
      "              precision    recall  f1-score   support\n",
      "\n",
      "           0       0.73      1.00      0.85      1035\n",
      "           1       0.00      0.00      0.00       374\n",
      "\n",
      "    accuracy                           0.73      1409\n",
      "   macro avg       0.37      0.50      0.42      1409\n",
      "weighted avg       0.54      0.73      0.62      1409\n",
      "\n"
     ]
    },
    {
     "name": "stderr",
     "output_type": "stream",
     "text": [
      "/opt/anaconda3/lib/python3.8/site-packages/sklearn/metrics/_classification.py:1308: UndefinedMetricWarning: Precision and F-score are ill-defined and being set to 0.0 in labels with no predicted samples. Use `zero_division` parameter to control this behavior.\n",
      "  _warn_prf(average, modifier, msg_start, len(result))\n",
      "/opt/anaconda3/lib/python3.8/site-packages/sklearn/metrics/_classification.py:1308: UndefinedMetricWarning: Precision and F-score are ill-defined and being set to 0.0 in labels with no predicted samples. Use `zero_division` parameter to control this behavior.\n",
      "  _warn_prf(average, modifier, msg_start, len(result))\n",
      "/opt/anaconda3/lib/python3.8/site-packages/sklearn/metrics/_classification.py:1308: UndefinedMetricWarning: Precision and F-score are ill-defined and being set to 0.0 in labels with no predicted samples. Use `zero_division` parameter to control this behavior.\n",
      "  _warn_prf(average, modifier, msg_start, len(result))\n",
      "/opt/anaconda3/lib/python3.8/site-packages/sklearn/metrics/_classification.py:1308: UndefinedMetricWarning: Precision and F-score are ill-defined and being set to 0.0 in labels with no predicted samples. Use `zero_division` parameter to control this behavior.\n",
      "  _warn_prf(average, modifier, msg_start, len(result))\n",
      "/opt/anaconda3/lib/python3.8/site-packages/sklearn/metrics/_classification.py:1308: UndefinedMetricWarning: Precision and F-score are ill-defined and being set to 0.0 in labels with no predicted samples. Use `zero_division` parameter to control this behavior.\n",
      "  _warn_prf(average, modifier, msg_start, len(result))\n",
      "/opt/anaconda3/lib/python3.8/site-packages/sklearn/metrics/_classification.py:1308: UndefinedMetricWarning: Precision and F-score are ill-defined and being set to 0.0 in labels with no predicted samples. Use `zero_division` parameter to control this behavior.\n",
      "  _warn_prf(average, modifier, msg_start, len(result))\n",
      "/opt/anaconda3/lib/python3.8/site-packages/sklearn/metrics/_classification.py:1308: UndefinedMetricWarning: Precision and F-score are ill-defined and being set to 0.0 in labels with no predicted samples. Use `zero_division` parameter to control this behavior.\n",
      "  _warn_prf(average, modifier, msg_start, len(result))\n",
      "/opt/anaconda3/lib/python3.8/site-packages/sklearn/metrics/_classification.py:1308: UndefinedMetricWarning: Precision and F-score are ill-defined and being set to 0.0 in labels with no predicted samples. Use `zero_division` parameter to control this behavior.\n",
      "  _warn_prf(average, modifier, msg_start, len(result))\n",
      "/opt/anaconda3/lib/python3.8/site-packages/sklearn/metrics/_classification.py:1308: UndefinedMetricWarning: Precision and F-score are ill-defined and being set to 0.0 in labels with no predicted samples. Use `zero_division` parameter to control this behavior.\n",
      "  _warn_prf(average, modifier, msg_start, len(result))\n",
      "/opt/anaconda3/lib/python3.8/site-packages/sklearn/metrics/_classification.py:1308: UndefinedMetricWarning: Precision and F-score are ill-defined and being set to 0.0 in labels with no predicted samples. Use `zero_division` parameter to control this behavior.\n",
      "  _warn_prf(average, modifier, msg_start, len(result))\n",
      "/opt/anaconda3/lib/python3.8/site-packages/sklearn/metrics/_classification.py:1308: UndefinedMetricWarning: Precision and F-score are ill-defined and being set to 0.0 in labels with no predicted samples. Use `zero_division` parameter to control this behavior.\n",
      "  _warn_prf(average, modifier, msg_start, len(result))\n",
      "/opt/anaconda3/lib/python3.8/site-packages/sklearn/metrics/_classification.py:1308: UndefinedMetricWarning: Precision and F-score are ill-defined and being set to 0.0 in labels with no predicted samples. Use `zero_division` parameter to control this behavior.\n",
      "  _warn_prf(average, modifier, msg_start, len(result))\n",
      "/opt/anaconda3/lib/python3.8/site-packages/sklearn/metrics/_classification.py:1308: UndefinedMetricWarning: Precision and F-score are ill-defined and being set to 0.0 in labels with no predicted samples. Use `zero_division` parameter to control this behavior.\n",
      "  _warn_prf(average, modifier, msg_start, len(result))\n",
      "/opt/anaconda3/lib/python3.8/site-packages/sklearn/metrics/_classification.py:1308: UndefinedMetricWarning: Precision and F-score are ill-defined and being set to 0.0 in labels with no predicted samples. Use `zero_division` parameter to control this behavior.\n",
      "  _warn_prf(average, modifier, msg_start, len(result))\n",
      "/opt/anaconda3/lib/python3.8/site-packages/sklearn/metrics/_classification.py:1308: UndefinedMetricWarning: Precision and F-score are ill-defined and being set to 0.0 in labels with no predicted samples. Use `zero_division` parameter to control this behavior.\n",
      "  _warn_prf(average, modifier, msg_start, len(result))\n",
      "/opt/anaconda3/lib/python3.8/site-packages/sklearn/metrics/_classification.py:1308: UndefinedMetricWarning: Precision and F-score are ill-defined and being set to 0.0 in labels with no predicted samples. Use `zero_division` parameter to control this behavior.\n",
      "  _warn_prf(average, modifier, msg_start, len(result))\n",
      "/opt/anaconda3/lib/python3.8/site-packages/sklearn/metrics/_classification.py:1308: UndefinedMetricWarning: Precision and F-score are ill-defined and being set to 0.0 in labels with no predicted samples. Use `zero_division` parameter to control this behavior.\n",
      "  _warn_prf(average, modifier, msg_start, len(result))\n",
      "/opt/anaconda3/lib/python3.8/site-packages/sklearn/metrics/_classification.py:1308: UndefinedMetricWarning: Precision and F-score are ill-defined and being set to 0.0 in labels with no predicted samples. Use `zero_division` parameter to control this behavior.\n",
      "  _warn_prf(average, modifier, msg_start, len(result))\n",
      "/opt/anaconda3/lib/python3.8/site-packages/sklearn/metrics/_classification.py:1308: UndefinedMetricWarning: Precision and F-score are ill-defined and being set to 0.0 in labels with no predicted samples. Use `zero_division` parameter to control this behavior.\n",
      "  _warn_prf(average, modifier, msg_start, len(result))\n",
      "/opt/anaconda3/lib/python3.8/site-packages/sklearn/metrics/_classification.py:1308: UndefinedMetricWarning: Precision and F-score are ill-defined and being set to 0.0 in labels with no predicted samples. Use `zero_division` parameter to control this behavior.\n",
      "  _warn_prf(average, modifier, msg_start, len(result))\n",
      "/opt/anaconda3/lib/python3.8/site-packages/sklearn/metrics/_classification.py:1308: UndefinedMetricWarning: Precision and F-score are ill-defined and being set to 0.0 in labels with no predicted samples. Use `zero_division` parameter to control this behavior.\n",
      "  _warn_prf(average, modifier, msg_start, len(result))\n"
     ]
    }
   ],
   "source": [
    "dummy_clf_70 = DummyClassifier(strategy='most_frequent')\n",
    "dummy_clf_60 = DummyClassifier(strategy='most_frequent')\n",
    "dummy_clf_50 = DummyClassifier(strategy='most_frequent')\n",
    "dummy_clf_40 = DummyClassifier(strategy='most_frequent')\n",
    "dummy_clf_30 = DummyClassifier(strategy='most_frequent')\n",
    "dummy_clf_20 = DummyClassifier(strategy='most_frequent')\n",
    "dummy_clf_10 = DummyClassifier(strategy='most_frequent')\n",
    "\n",
    "dummy_clf_70.fit(x_train_70p, y_train_70p)\n",
    "y_baseline_70 = dummy_clf_70.predict(x_test)\n",
    "print(classification_report(y_test, y_baseline_70))\n",
    "\n",
    "dummy_clf_60.fit(x_train_60p, y_train_60p)\n",
    "y_baseline_60 = dummy_clf_60.predict(x_test)\n",
    "print(classification_report(y_test, y_baseline_60))\n",
    "\n",
    "dummy_clf_50.fit(x_train_50p, y_train_50p)\n",
    "y_baseline_50 = dummy_clf_50.predict(x_test)\n",
    "print(classification_report(y_test, y_baseline_50))\n",
    "\n",
    "dummy_clf_40.fit(x_train_40p, y_train_40p)\n",
    "y_baseline_40 = dummy_clf_40.predict(x_test)\n",
    "print(classification_report(y_test, y_baseline_40))\n",
    "\n",
    "dummy_clf_30.fit(x_train_30p, y_train_30p)\n",
    "y_baseline_30 = dummy_clf_30.predict(x_test)\n",
    "print(classification_report(y_test, y_baseline_30))\n",
    "\n",
    "dummy_clf_20.fit(x_train_20p, y_train_20p)\n",
    "y_baseline_20 = dummy_clf_20.predict(x_test)\n",
    "print(classification_report(y_test, y_baseline_20))\n",
    "\n",
    "dummy_clf_10.fit(x_train_10p, y_train_10p)\n",
    "y_baseline_10 = dummy_clf_10.predict(x_test)\n",
    "print(classification_report(y_test, y_baseline_10))"
   ]
  },
  {
   "cell_type": "code",
   "execution_count": 6,
   "id": "ed34fe38",
   "metadata": {},
   "outputs": [],
   "source": [
    "oversample = SMOTENC(categorical_features = [3,4,5,6,8,9,10,11,12,13,14,15,16,17,18,19,24,27,28])\n",
    "x_train_70p, y_train_70p = oversample.fit_resample(x_train_70p, y_train_70p)\n",
    "x_train_60p, y_train_60p = oversample.fit_resample(x_train_60p, y_train_60p)\n",
    "x_train_50p, y_train_50p = oversample.fit_resample(x_train_50p, y_train_50p)\n",
    "x_train_40p, y_train_40p = oversample.fit_resample(x_train_40p, y_train_40p)\n",
    "x_train_30p, y_train_30p = oversample.fit_resample(x_train_30p, y_train_30p)\n",
    "x_train_20p, y_train_20p = oversample.fit_resample(x_train_20p, y_train_20p)\n",
    "x_train_10p, y_train_10p = oversample.fit_resample(x_train_10p, y_train_10p)"
   ]
  },
  {
   "cell_type": "code",
   "execution_count": 10,
   "id": "a659e8fa",
   "metadata": {},
   "outputs": [],
   "source": [
    "x_rest.to_csv(r'x_rest_tq3.csv', index = False, header = True)\n",
    "x_test.to_csv(r'x_test_tq3.csv', index = False, header = True)\n",
    "\n",
    "x_train_70p.to_csv(r'x_train_70p.csv', index = False, header = True)\n",
    "x_train_60p.to_csv(r'x_train_60p.csv', index = False, header = True)\n",
    "x_train_50p.to_csv(r'x_train_50p.csv', index = False, header = True)\n",
    "x_train_40p.to_csv(r'x_train_40p.csv', index = False, header = True)\n",
    "x_train_30p.to_csv(r'x_train_30p.csv', index = False, header = True)\n",
    "x_train_20p.to_csv(r'x_train_20p.csv', index = False, header = True)\n",
    "x_train_10p.to_csv(r'x_train_10p.csv', index = False, header = True)"
   ]
  },
  {
   "cell_type": "code",
   "execution_count": 11,
   "id": "308d4860",
   "metadata": {},
   "outputs": [],
   "source": [
    "train_t = pd.read_excel(\"x_rest_FAMD.xlsx\")\n",
    "test_t = pd.read_excel(\"x_test_FAMD.xlsx\")\n",
    "\n",
    "FAMD_train_70p = pd.read_excel(\"FAMD_train_70p.xlsx\")\n",
    "FAMD_train_60p = pd.read_excel(\"FAMD_train_60p.xlsx\")\n",
    "FAMD_train_50p = pd.read_excel(\"FAMD_train_50p.xlsx\")\n",
    "FAMD_train_40p = pd.read_excel(\"FAMD_train_40p.xlsx\")\n",
    "FAMD_train_30p = pd.read_excel(\"FAMD_train_30p.xlsx\")\n",
    "FAMD_train_20p = pd.read_excel(\"FAMD_train_20p.xlsx\")\n",
    "FAMD_train_10p = pd.read_excel(\"FAMD_train_10p.xlsx\")"
   ]
  },
  {
   "cell_type": "markdown",
   "id": "419eb87e",
   "metadata": {},
   "source": [
    "# SVM models"
   ]
  },
  {
   "cell_type": "code",
   "execution_count": 20,
   "id": "b45b760c",
   "metadata": {},
   "outputs": [
    {
     "name": "stdout",
     "output_type": "stream",
     "text": [
      "Best: 0.925184 using {'C': 10, 'kernel': 'rbf'}\n",
      "0.909430 (0.009928) with: {'C': 100, 'kernel': 'poly'}\n",
      "0.918579 (0.009406) with: {'C': 100, 'kernel': 'rbf'}\n",
      "0.854900 (0.013573) with: {'C': 100, 'kernel': 'sigmoid'}\n",
      "0.913355 (0.008342) with: {'C': 10, 'kernel': 'poly'}\n",
      "0.925184 (0.011192) with: {'C': 10, 'kernel': 'rbf'}\n",
      "0.851972 (0.014136) with: {'C': 10, 'kernel': 'sigmoid'}\n",
      "0.908199 (0.009898) with: {'C': 1.0, 'kernel': 'poly'}\n",
      "0.921595 (0.011328) with: {'C': 1.0, 'kernel': 'rbf'}\n",
      "0.861557 (0.016758) with: {'C': 1.0, 'kernel': 'sigmoid'}\n",
      "0.879450 (0.010554) with: {'C': 0.1, 'kernel': 'poly'}\n",
      "0.902737 (0.011283) with: {'C': 0.1, 'kernel': 'rbf'}\n",
      "0.894836 (0.010864) with: {'C': 0.1, 'kernel': 'sigmoid'}\n",
      "0.803168 (0.011081) with: {'C': 0.01, 'kernel': 'poly'}\n",
      "0.861934 (0.013228) with: {'C': 0.01, 'kernel': 'rbf'}\n",
      "0.885158 (0.013916) with: {'C': 0.01, 'kernel': 'sigmoid'}\n"
     ]
    }
   ],
   "source": [
    "svm_model = svm.SVC()\n",
    "kernel = ['poly', 'rbf', 'sigmoid']\n",
    "C = [100, 10, 1.0, 0.1, 0.01]\n",
    "\n",
    "# define grid search\n",
    "grid = dict(kernel=kernel,C=C)\n",
    "cv = StratifiedKFold(n_splits=10, shuffle=True)\n",
    "grid_search = GridSearchCV(estimator=svm_model, param_grid=grid, n_jobs=-1, cv=cv, scoring='f1',error_score=0)\n",
    "grid_result = grid_search.fit(FAMD_train_70p, y_train_70p)\n",
    "\n",
    "# summarize results\n",
    "print(\"Best: %f using %s\" % (grid_result.best_score_, grid_result.best_params_))\n",
    "means = grid_result.cv_results_['mean_test_score']\n",
    "stds = grid_result.cv_results_['std_test_score']\n",
    "params = grid_result.cv_results_['params']\n",
    "for mean, stdev, param in zip(means, stds, params):\n",
    "    print(\"%f (%f) with: %r\" % (mean, stdev, param))"
   ]
  },
  {
   "cell_type": "code",
   "execution_count": 21,
   "id": "3ea93baf",
   "metadata": {},
   "outputs": [
    {
     "name": "stdout",
     "output_type": "stream",
     "text": [
      "Best: 0.919598 using {'C': 10, 'kernel': 'rbf'}\n",
      "0.895150 (0.006536) with: {'C': 100, 'kernel': 'poly'}\n",
      "0.905981 (0.009496) with: {'C': 100, 'kernel': 'rbf'}\n",
      "0.834386 (0.014255) with: {'C': 100, 'kernel': 'sigmoid'}\n",
      "0.900261 (0.008210) with: {'C': 10, 'kernel': 'poly'}\n",
      "0.919598 (0.009122) with: {'C': 10, 'kernel': 'rbf'}\n",
      "0.837198 (0.012094) with: {'C': 10, 'kernel': 'sigmoid'}\n",
      "0.898510 (0.012000) with: {'C': 1.0, 'kernel': 'poly'}\n",
      "0.909113 (0.011423) with: {'C': 1.0, 'kernel': 'rbf'}\n",
      "0.833726 (0.014896) with: {'C': 1.0, 'kernel': 'sigmoid'}\n",
      "0.870172 (0.010733) with: {'C': 0.1, 'kernel': 'poly'}\n",
      "0.892837 (0.009392) with: {'C': 0.1, 'kernel': 'rbf'}\n",
      "0.880701 (0.013553) with: {'C': 0.1, 'kernel': 'sigmoid'}\n",
      "0.797214 (0.012399) with: {'C': 0.01, 'kernel': 'poly'}\n",
      "0.853321 (0.008633) with: {'C': 0.01, 'kernel': 'rbf'}\n",
      "0.873693 (0.009911) with: {'C': 0.01, 'kernel': 'sigmoid'}\n"
     ]
    }
   ],
   "source": [
    "svm_model = svm.SVC()\n",
    "kernel = ['poly', 'rbf', 'sigmoid']\n",
    "C = [100, 10, 1.0, 0.1, 0.01]\n",
    "\n",
    "# define grid search\n",
    "grid = dict(kernel=kernel,C=C)\n",
    "cv = StratifiedKFold(n_splits=10, shuffle=True)\n",
    "grid_search = GridSearchCV(estimator=svm_model, param_grid=grid, n_jobs=-1, cv=cv, scoring='f1',error_score=0)\n",
    "grid_result = grid_search.fit(FAMD_train_60p, y_train_60p)\n",
    "\n",
    "# summarize results\n",
    "print(\"Best: %f using %s\" % (grid_result.best_score_, grid_result.best_params_))\n",
    "means = grid_result.cv_results_['mean_test_score']\n",
    "stds = grid_result.cv_results_['std_test_score']\n",
    "params = grid_result.cv_results_['params']\n",
    "for mean, stdev, param in zip(means, stds, params):\n",
    "    print(\"%f (%f) with: %r\" % (mean, stdev, param))"
   ]
  },
  {
   "cell_type": "code",
   "execution_count": 22,
   "id": "af8707b5",
   "metadata": {},
   "outputs": [
    {
     "name": "stdout",
     "output_type": "stream",
     "text": [
      "Best: 0.919030 using {'C': 10, 'kernel': 'rbf'}\n",
      "0.892165 (0.012243) with: {'C': 100, 'kernel': 'poly'}\n",
      "0.908668 (0.006814) with: {'C': 100, 'kernel': 'rbf'}\n",
      "0.829017 (0.013316) with: {'C': 100, 'kernel': 'sigmoid'}\n",
      "0.904545 (0.013416) with: {'C': 10, 'kernel': 'poly'}\n",
      "0.919030 (0.009541) with: {'C': 10, 'kernel': 'rbf'}\n",
      "0.836501 (0.015965) with: {'C': 10, 'kernel': 'sigmoid'}\n",
      "0.907948 (0.014807) with: {'C': 1.0, 'kernel': 'poly'}\n",
      "0.914454 (0.012264) with: {'C': 1.0, 'kernel': 'rbf'}\n",
      "0.838282 (0.014917) with: {'C': 1.0, 'kernel': 'sigmoid'}\n",
      "0.864854 (0.010492) with: {'C': 0.1, 'kernel': 'poly'}\n",
      "0.899978 (0.013920) with: {'C': 0.1, 'kernel': 'rbf'}\n",
      "0.885902 (0.013869) with: {'C': 0.1, 'kernel': 'sigmoid'}\n",
      "0.789574 (0.008127) with: {'C': 0.01, 'kernel': 'poly'}\n",
      "0.845654 (0.018868) with: {'C': 0.01, 'kernel': 'rbf'}\n",
      "0.871932 (0.016422) with: {'C': 0.01, 'kernel': 'sigmoid'}\n"
     ]
    }
   ],
   "source": [
    "svm_model = svm.SVC()\n",
    "kernel = ['poly', 'rbf', 'sigmoid']\n",
    "C = [100, 10, 1.0, 0.1, 0.01]\n",
    "\n",
    "# define grid search\n",
    "grid = dict(kernel=kernel,C=C)\n",
    "cv = StratifiedKFold(n_splits=10, shuffle=True)\n",
    "grid_search = GridSearchCV(estimator=svm_model, param_grid=grid, n_jobs=-1, cv=cv, scoring='f1',error_score=0)\n",
    "grid_result = grid_search.fit(FAMD_train_50p, y_train_50p)\n",
    "\n",
    "# summarize results\n",
    "print(\"Best: %f using %s\" % (grid_result.best_score_, grid_result.best_params_))\n",
    "means = grid_result.cv_results_['mean_test_score']\n",
    "stds = grid_result.cv_results_['std_test_score']\n",
    "params = grid_result.cv_results_['params']\n",
    "for mean, stdev, param in zip(means, stds, params):\n",
    "    print(\"%f (%f) with: %r\" % (mean, stdev, param))"
   ]
  },
  {
   "cell_type": "code",
   "execution_count": 23,
   "id": "3b42336a",
   "metadata": {},
   "outputs": [
    {
     "name": "stdout",
     "output_type": "stream",
     "text": [
      "Best: 0.910664 using {'C': 10, 'kernel': 'rbf'}\n",
      "0.883724 (0.015304) with: {'C': 100, 'kernel': 'poly'}\n",
      "0.900751 (0.012585) with: {'C': 100, 'kernel': 'rbf'}\n",
      "0.831861 (0.020090) with: {'C': 100, 'kernel': 'sigmoid'}\n",
      "0.899175 (0.011579) with: {'C': 10, 'kernel': 'poly'}\n",
      "0.910664 (0.009048) with: {'C': 10, 'kernel': 'rbf'}\n",
      "0.830129 (0.021119) with: {'C': 10, 'kernel': 'sigmoid'}\n",
      "0.897805 (0.011593) with: {'C': 1.0, 'kernel': 'poly'}\n",
      "0.901827 (0.009621) with: {'C': 1.0, 'kernel': 'rbf'}\n",
      "0.834128 (0.015638) with: {'C': 1.0, 'kernel': 'sigmoid'}\n",
      "0.855731 (0.013088) with: {'C': 0.1, 'kernel': 'poly'}\n",
      "0.883106 (0.009396) with: {'C': 0.1, 'kernel': 'rbf'}\n",
      "0.879070 (0.011590) with: {'C': 0.1, 'kernel': 'sigmoid'}\n",
      "0.785391 (0.005984) with: {'C': 0.01, 'kernel': 'poly'}\n",
      "0.838019 (0.016228) with: {'C': 0.01, 'kernel': 'rbf'}\n",
      "0.861951 (0.011811) with: {'C': 0.01, 'kernel': 'sigmoid'}\n"
     ]
    }
   ],
   "source": [
    "svm_model = svm.SVC()\n",
    "kernel = ['poly', 'rbf', 'sigmoid']\n",
    "C = [100, 10, 1.0, 0.1, 0.01]\n",
    "\n",
    "# define grid search\n",
    "grid = dict(kernel=kernel,C=C)\n",
    "cv = StratifiedKFold(n_splits=10, shuffle=True)\n",
    "grid_search = GridSearchCV(estimator=svm_model, param_grid=grid, n_jobs=-1, cv=cv, scoring='f1',error_score=0)\n",
    "grid_result = grid_search.fit(FAMD_train_40p, y_train_40p)\n",
    "\n",
    "# summarize results\n",
    "print(\"Best: %f using %s\" % (grid_result.best_score_, grid_result.best_params_))\n",
    "means = grid_result.cv_results_['mean_test_score']\n",
    "stds = grid_result.cv_results_['std_test_score']\n",
    "params = grid_result.cv_results_['params']\n",
    "for mean, stdev, param in zip(means, stds, params):\n",
    "    print(\"%f (%f) with: %r\" % (mean, stdev, param))"
   ]
  },
  {
   "cell_type": "code",
   "execution_count": 24,
   "id": "94b9da55",
   "metadata": {},
   "outputs": [
    {
     "name": "stdout",
     "output_type": "stream",
     "text": [
      "Best: 0.897546 using {'C': 10, 'kernel': 'rbf'}\n",
      "0.874612 (0.017885) with: {'C': 100, 'kernel': 'poly'}\n",
      "0.887796 (0.013695) with: {'C': 100, 'kernel': 'rbf'}\n",
      "0.831131 (0.023912) with: {'C': 100, 'kernel': 'sigmoid'}\n",
      "0.883969 (0.017348) with: {'C': 10, 'kernel': 'poly'}\n",
      "0.897546 (0.013990) with: {'C': 10, 'kernel': 'rbf'}\n",
      "0.816312 (0.022889) with: {'C': 10, 'kernel': 'sigmoid'}\n",
      "0.883214 (0.019752) with: {'C': 1.0, 'kernel': 'poly'}\n",
      "0.895300 (0.017538) with: {'C': 1.0, 'kernel': 'rbf'}\n",
      "0.842521 (0.025229) with: {'C': 1.0, 'kernel': 'sigmoid'}\n",
      "0.845256 (0.020005) with: {'C': 0.1, 'kernel': 'poly'}\n",
      "0.878818 (0.024881) with: {'C': 0.1, 'kernel': 'rbf'}\n",
      "0.874682 (0.024296) with: {'C': 0.1, 'kernel': 'sigmoid'}\n",
      "0.788113 (0.018100) with: {'C': 0.01, 'kernel': 'poly'}\n",
      "0.840932 (0.023410) with: {'C': 0.01, 'kernel': 'rbf'}\n",
      "0.865814 (0.016799) with: {'C': 0.01, 'kernel': 'sigmoid'}\n"
     ]
    }
   ],
   "source": [
    "svm_model = svm.SVC()\n",
    "kernel = ['poly', 'rbf', 'sigmoid']\n",
    "C = [100, 10, 1.0, 0.1, 0.01]\n",
    "\n",
    "# define grid search\n",
    "grid = dict(kernel=kernel,C=C)\n",
    "cv = StratifiedKFold(n_splits=10, shuffle=True)\n",
    "grid_search = GridSearchCV(estimator=svm_model, param_grid=grid, n_jobs=-1, cv=cv, scoring='f1',error_score=0)\n",
    "grid_result = grid_search.fit(FAMD_train_30p, y_train_30p)\n",
    "\n",
    "# summarize results\n",
    "print(\"Best: %f using %s\" % (grid_result.best_score_, grid_result.best_params_))\n",
    "means = grid_result.cv_results_['mean_test_score']\n",
    "stds = grid_result.cv_results_['std_test_score']\n",
    "params = grid_result.cv_results_['params']\n",
    "for mean, stdev, param in zip(means, stds, params):\n",
    "    print(\"%f (%f) with: %r\" % (mean, stdev, param))"
   ]
  },
  {
   "cell_type": "code",
   "execution_count": 25,
   "id": "0ccf8e73",
   "metadata": {},
   "outputs": [
    {
     "name": "stdout",
     "output_type": "stream",
     "text": [
      "Best: 0.908556 using {'C': 10, 'kernel': 'rbf'}\n",
      "0.880711 (0.018235) with: {'C': 100, 'kernel': 'poly'}\n",
      "0.894091 (0.023535) with: {'C': 100, 'kernel': 'rbf'}\n",
      "0.837295 (0.032746) with: {'C': 100, 'kernel': 'sigmoid'}\n",
      "0.894804 (0.017857) with: {'C': 10, 'kernel': 'poly'}\n",
      "0.908556 (0.018234) with: {'C': 10, 'kernel': 'rbf'}\n",
      "0.837540 (0.032164) with: {'C': 10, 'kernel': 'sigmoid'}\n",
      "0.890932 (0.021938) with: {'C': 1.0, 'kernel': 'poly'}\n",
      "0.899004 (0.020603) with: {'C': 1.0, 'kernel': 'rbf'}\n",
      "0.858737 (0.027851) with: {'C': 1.0, 'kernel': 'sigmoid'}\n",
      "0.845750 (0.024270) with: {'C': 0.1, 'kernel': 'poly'}\n",
      "0.891054 (0.019856) with: {'C': 0.1, 'kernel': 'rbf'}\n",
      "0.893535 (0.024781) with: {'C': 0.1, 'kernel': 'sigmoid'}\n",
      "0.762880 (0.022681) with: {'C': 0.01, 'kernel': 'poly'}\n",
      "0.829600 (0.016978) with: {'C': 0.01, 'kernel': 'rbf'}\n",
      "0.862291 (0.022658) with: {'C': 0.01, 'kernel': 'sigmoid'}\n"
     ]
    }
   ],
   "source": [
    "svm_model = svm.SVC()\n",
    "kernel = ['poly', 'rbf', 'sigmoid']\n",
    "C = [100, 10, 1.0, 0.1, 0.01]\n",
    "\n",
    "# define grid search\n",
    "grid = dict(kernel=kernel,C=C)\n",
    "cv = StratifiedKFold(n_splits=10, shuffle=True)\n",
    "grid_search = GridSearchCV(estimator=svm_model, param_grid=grid, n_jobs=-1, cv=cv, scoring='f1',error_score=0)\n",
    "grid_result = grid_search.fit(FAMD_train_20p, y_train_20p)\n",
    "\n",
    "# summarize results\n",
    "print(\"Best: %f using %s\" % (grid_result.best_score_, grid_result.best_params_))\n",
    "means = grid_result.cv_results_['mean_test_score']\n",
    "stds = grid_result.cv_results_['std_test_score']\n",
    "params = grid_result.cv_results_['params']\n",
    "for mean, stdev, param in zip(means, stds, params):\n",
    "    print(\"%f (%f) with: %r\" % (mean, stdev, param))"
   ]
  },
  {
   "cell_type": "code",
   "execution_count": 26,
   "id": "f3ab7d29",
   "metadata": {},
   "outputs": [
    {
     "name": "stdout",
     "output_type": "stream",
     "text": [
      "Best: 0.899596 using {'C': 1.0, 'kernel': 'rbf'}\n",
      "0.863911 (0.024201) with: {'C': 100, 'kernel': 'poly'}\n",
      "0.886953 (0.028821) with: {'C': 100, 'kernel': 'rbf'}\n",
      "0.859993 (0.039674) with: {'C': 100, 'kernel': 'sigmoid'}\n",
      "0.881640 (0.024242) with: {'C': 10, 'kernel': 'poly'}\n",
      "0.893261 (0.032013) with: {'C': 10, 'kernel': 'rbf'}\n",
      "0.872001 (0.024202) with: {'C': 10, 'kernel': 'sigmoid'}\n",
      "0.882220 (0.014077) with: {'C': 1.0, 'kernel': 'poly'}\n",
      "0.899596 (0.026042) with: {'C': 1.0, 'kernel': 'rbf'}\n",
      "0.886147 (0.030953) with: {'C': 1.0, 'kernel': 'sigmoid'}\n",
      "0.817899 (0.019653) with: {'C': 0.1, 'kernel': 'poly'}\n",
      "0.878666 (0.022020) with: {'C': 0.1, 'kernel': 'rbf'}\n",
      "0.885986 (0.026737) with: {'C': 0.1, 'kernel': 'sigmoid'}\n",
      "0.730053 (0.020643) with: {'C': 0.01, 'kernel': 'poly'}\n",
      "0.830369 (0.025566) with: {'C': 0.01, 'kernel': 'rbf'}\n",
      "0.861822 (0.023047) with: {'C': 0.01, 'kernel': 'sigmoid'}\n"
     ]
    }
   ],
   "source": [
    "svm_model = svm.SVC()\n",
    "kernel = ['poly', 'rbf', 'sigmoid']\n",
    "C = [100, 10, 1.0, 0.1, 0.01]\n",
    "\n",
    "# define grid search\n",
    "grid = dict(kernel=kernel,C=C)\n",
    "cv = StratifiedKFold(n_splits=10, shuffle=True)\n",
    "grid_search = GridSearchCV(estimator=svm_model, param_grid=grid, n_jobs=-1, cv=cv, scoring='f1',error_score=0)\n",
    "grid_result = grid_search.fit(FAMD_train_10p, y_train_10p)\n",
    "\n",
    "# summarize results\n",
    "print(\"Best: %f using %s\" % (grid_result.best_score_, grid_result.best_params_))\n",
    "means = grid_result.cv_results_['mean_test_score']\n",
    "stds = grid_result.cv_results_['std_test_score']\n",
    "params = grid_result.cv_results_['params']\n",
    "for mean, stdev, param in zip(means, stds, params):\n",
    "    print(\"%f (%f) with: %r\" % (mean, stdev, param))"
   ]
  },
  {
   "cell_type": "code",
   "execution_count": 27,
   "id": "48317323",
   "metadata": {},
   "outputs": [
    {
     "name": "stdout",
     "output_type": "stream",
     "text": [
      "              precision    recall  f1-score   support\n",
      "\n",
      "           0       0.72      0.52      0.60      1035\n",
      "           1       0.25      0.45      0.32       374\n",
      "\n",
      "    accuracy                           0.50      1409\n",
      "   macro avg       0.49      0.49      0.46      1409\n",
      "weighted avg       0.60      0.50      0.53      1409\n",
      "\n",
      "              precision    recall  f1-score   support\n",
      "\n",
      "           0       0.72      0.53      0.61      1035\n",
      "           1       0.24      0.42      0.31       374\n",
      "\n",
      "    accuracy                           0.50      1409\n",
      "   macro avg       0.48      0.47      0.46      1409\n",
      "weighted avg       0.59      0.50      0.53      1409\n",
      "\n",
      "              precision    recall  f1-score   support\n",
      "\n",
      "           0       0.72      0.54      0.61      1035\n",
      "           1       0.25      0.42      0.31       374\n",
      "\n",
      "    accuracy                           0.50      1409\n",
      "   macro avg       0.48      0.48      0.46      1409\n",
      "weighted avg       0.59      0.50      0.53      1409\n",
      "\n",
      "              precision    recall  f1-score   support\n",
      "\n",
      "           0       0.72      0.52      0.61      1035\n",
      "           1       0.25      0.44      0.32       374\n",
      "\n",
      "    accuracy                           0.50      1409\n",
      "   macro avg       0.49      0.48      0.46      1409\n",
      "weighted avg       0.60      0.50      0.53      1409\n",
      "\n",
      "              precision    recall  f1-score   support\n",
      "\n",
      "           0       0.68      0.50      0.58      1035\n",
      "           1       0.20      0.36      0.26       374\n",
      "\n",
      "    accuracy                           0.46      1409\n",
      "   macro avg       0.44      0.43      0.42      1409\n",
      "weighted avg       0.55      0.46      0.49      1409\n",
      "\n",
      "              precision    recall  f1-score   support\n",
      "\n",
      "           0       0.79      0.59      0.67      1035\n",
      "           1       0.33      0.56      0.41       374\n",
      "\n",
      "    accuracy                           0.58      1409\n",
      "   macro avg       0.56      0.57      0.54      1409\n",
      "weighted avg       0.66      0.58      0.60      1409\n",
      "\n",
      "              precision    recall  f1-score   support\n",
      "\n",
      "           0       0.82      0.67      0.73      1035\n",
      "           1       0.39      0.59      0.47       374\n",
      "\n",
      "    accuracy                           0.65      1409\n",
      "   macro avg       0.60      0.63      0.60      1409\n",
      "weighted avg       0.70      0.65      0.66      1409\n",
      "\n"
     ]
    }
   ],
   "source": [
    "svm_model_70 = svm.SVC(C = 10, kernel = 'rbf')\n",
    "svm_model_60 = svm.SVC(C = 10, kernel = 'rbf')\n",
    "svm_model_50 = svm.SVC(C = 10, kernel = 'rbf')\n",
    "svm_model_40 = svm.SVC(C = 10, kernel = 'rbf')\n",
    "svm_model_30 = svm.SVC(C = 10, kernel = 'rbf')\n",
    "svm_model_20 = svm.SVC(C = 10, kernel = 'rbf')\n",
    "svm_model_10 = svm.SVC(C = 1.0, kernel = 'rbf')\n",
    "\n",
    "svm_model_70.fit(FAMD_train_70p, y_train_70p)\n",
    "y_pred_70 = svm_model_70.predict(test_t)\n",
    "\n",
    "svm_model_60.fit(FAMD_train_60p, y_train_60p)\n",
    "y_pred_60 = svm_model_60.predict(test_t)\n",
    "\n",
    "svm_model_50.fit(FAMD_train_50p, y_train_50p)\n",
    "y_pred_50 = svm_model_50.predict(test_t)\n",
    "\n",
    "svm_model_40.fit(FAMD_train_40p, y_train_40p)\n",
    "y_pred_40 = svm_model_40.predict(test_t)\n",
    "\n",
    "svm_model_30.fit(FAMD_train_30p, y_train_30p)\n",
    "y_pred_30 = svm_model_30.predict(test_t)\n",
    "\n",
    "svm_model_20.fit(FAMD_train_20p, y_train_20p)\n",
    "y_pred_20 = svm_model_20.predict(test_t)\n",
    "\n",
    "svm_model_10.fit(FAMD_train_10p, y_train_10p)\n",
    "y_pred_10 = svm_model_10.predict(test_t)\n",
    "\n",
    "print(classification_report(y_test, y_pred_70))\n",
    "print(classification_report(y_test, y_pred_60))\n",
    "print(classification_report(y_test, y_pred_50))\n",
    "print(classification_report(y_test, y_pred_40))\n",
    "print(classification_report(y_test, y_pred_30))\n",
    "print(classification_report(y_test, y_pred_20))\n",
    "print(classification_report(y_test, y_pred_10))"
   ]
  },
  {
   "cell_type": "markdown",
   "id": "531830f2",
   "metadata": {},
   "source": [
    "# KNN models"
   ]
  },
  {
   "cell_type": "code",
   "execution_count": 28,
   "id": "d7054642",
   "metadata": {},
   "outputs": [
    {
     "name": "stdout",
     "output_type": "stream",
     "text": [
      "Best: 0.887199 using {'metric': 'euclidean', 'n_neighbors': 9, 'weights': 'distance'}\n",
      "0.860615 (0.014662) with: {'metric': 'euclidean', 'n_neighbors': 1, 'weights': 'uniform'}\n",
      "0.860615 (0.014662) with: {'metric': 'euclidean', 'n_neighbors': 1, 'weights': 'distance'}\n",
      "0.878189 (0.011766) with: {'metric': 'euclidean', 'n_neighbors': 3, 'weights': 'uniform'}\n",
      "0.879564 (0.011350) with: {'metric': 'euclidean', 'n_neighbors': 3, 'weights': 'distance'}\n",
      "0.882257 (0.012112) with: {'metric': 'euclidean', 'n_neighbors': 5, 'weights': 'uniform'}\n",
      "0.883700 (0.011996) with: {'metric': 'euclidean', 'n_neighbors': 5, 'weights': 'distance'}\n",
      "0.882968 (0.013434) with: {'metric': 'euclidean', 'n_neighbors': 7, 'weights': 'uniform'}\n",
      "0.884503 (0.012410) with: {'metric': 'euclidean', 'n_neighbors': 7, 'weights': 'distance'}\n",
      "0.885127 (0.014709) with: {'metric': 'euclidean', 'n_neighbors': 9, 'weights': 'uniform'}\n",
      "0.887199 (0.013799) with: {'metric': 'euclidean', 'n_neighbors': 9, 'weights': 'distance'}\n",
      "0.883704 (0.014749) with: {'metric': 'euclidean', 'n_neighbors': 11, 'weights': 'uniform'}\n",
      "0.886620 (0.015063) with: {'metric': 'euclidean', 'n_neighbors': 11, 'weights': 'distance'}\n",
      "0.884569 (0.014482) with: {'metric': 'euclidean', 'n_neighbors': 13, 'weights': 'uniform'}\n",
      "0.886547 (0.013866) with: {'metric': 'euclidean', 'n_neighbors': 13, 'weights': 'distance'}\n",
      "0.884214 (0.012560) with: {'metric': 'euclidean', 'n_neighbors': 15, 'weights': 'uniform'}\n",
      "0.887001 (0.013708) with: {'metric': 'euclidean', 'n_neighbors': 15, 'weights': 'distance'}\n",
      "0.885098 (0.013240) with: {'metric': 'euclidean', 'n_neighbors': 17, 'weights': 'uniform'}\n",
      "0.887106 (0.014069) with: {'metric': 'euclidean', 'n_neighbors': 17, 'weights': 'distance'}\n",
      "0.883540 (0.015851) with: {'metric': 'euclidean', 'n_neighbors': 19, 'weights': 'uniform'}\n",
      "0.885070 (0.015095) with: {'metric': 'euclidean', 'n_neighbors': 19, 'weights': 'distance'}\n",
      "0.859104 (0.009413) with: {'metric': 'manhattan', 'n_neighbors': 1, 'weights': 'uniform'}\n",
      "0.859104 (0.009413) with: {'metric': 'manhattan', 'n_neighbors': 1, 'weights': 'distance'}\n",
      "0.877044 (0.013062) with: {'metric': 'manhattan', 'n_neighbors': 3, 'weights': 'uniform'}\n",
      "0.877324 (0.013065) with: {'metric': 'manhattan', 'n_neighbors': 3, 'weights': 'distance'}\n",
      "0.883701 (0.012963) with: {'metric': 'manhattan', 'n_neighbors': 5, 'weights': 'uniform'}\n",
      "0.884873 (0.013257) with: {'metric': 'manhattan', 'n_neighbors': 5, 'weights': 'distance'}\n",
      "0.883106 (0.013486) with: {'metric': 'manhattan', 'n_neighbors': 7, 'weights': 'uniform'}\n",
      "0.884387 (0.013164) with: {'metric': 'manhattan', 'n_neighbors': 7, 'weights': 'distance'}\n",
      "0.883468 (0.014402) with: {'metric': 'manhattan', 'n_neighbors': 9, 'weights': 'uniform'}\n",
      "0.884789 (0.013217) with: {'metric': 'manhattan', 'n_neighbors': 9, 'weights': 'distance'}\n",
      "0.882114 (0.013397) with: {'metric': 'manhattan', 'n_neighbors': 11, 'weights': 'uniform'}\n",
      "0.884551 (0.012868) with: {'metric': 'manhattan', 'n_neighbors': 11, 'weights': 'distance'}\n",
      "0.882577 (0.012963) with: {'metric': 'manhattan', 'n_neighbors': 13, 'weights': 'uniform'}\n",
      "0.885410 (0.011789) with: {'metric': 'manhattan', 'n_neighbors': 13, 'weights': 'distance'}\n",
      "0.882786 (0.010855) with: {'metric': 'manhattan', 'n_neighbors': 15, 'weights': 'uniform'}\n",
      "0.885160 (0.010641) with: {'metric': 'manhattan', 'n_neighbors': 15, 'weights': 'distance'}\n",
      "0.881197 (0.013696) with: {'metric': 'manhattan', 'n_neighbors': 17, 'weights': 'uniform'}\n",
      "0.882357 (0.013782) with: {'metric': 'manhattan', 'n_neighbors': 17, 'weights': 'distance'}\n",
      "0.880176 (0.013587) with: {'metric': 'manhattan', 'n_neighbors': 19, 'weights': 'uniform'}\n",
      "0.882391 (0.013360) with: {'metric': 'manhattan', 'n_neighbors': 19, 'weights': 'distance'}\n",
      "0.860615 (0.014662) with: {'metric': 'minkowski', 'n_neighbors': 1, 'weights': 'uniform'}\n",
      "0.860615 (0.014662) with: {'metric': 'minkowski', 'n_neighbors': 1, 'weights': 'distance'}\n",
      "0.878189 (0.011766) with: {'metric': 'minkowski', 'n_neighbors': 3, 'weights': 'uniform'}\n",
      "0.879564 (0.011350) with: {'metric': 'minkowski', 'n_neighbors': 3, 'weights': 'distance'}\n",
      "0.882257 (0.012112) with: {'metric': 'minkowski', 'n_neighbors': 5, 'weights': 'uniform'}\n",
      "0.883700 (0.011996) with: {'metric': 'minkowski', 'n_neighbors': 5, 'weights': 'distance'}\n",
      "0.882968 (0.013434) with: {'metric': 'minkowski', 'n_neighbors': 7, 'weights': 'uniform'}\n",
      "0.884503 (0.012410) with: {'metric': 'minkowski', 'n_neighbors': 7, 'weights': 'distance'}\n",
      "0.885127 (0.014709) with: {'metric': 'minkowski', 'n_neighbors': 9, 'weights': 'uniform'}\n",
      "0.887199 (0.013799) with: {'metric': 'minkowski', 'n_neighbors': 9, 'weights': 'distance'}\n",
      "0.883704 (0.014749) with: {'metric': 'minkowski', 'n_neighbors': 11, 'weights': 'uniform'}\n",
      "0.886620 (0.015063) with: {'metric': 'minkowski', 'n_neighbors': 11, 'weights': 'distance'}\n",
      "0.884569 (0.014482) with: {'metric': 'minkowski', 'n_neighbors': 13, 'weights': 'uniform'}\n",
      "0.886547 (0.013866) with: {'metric': 'minkowski', 'n_neighbors': 13, 'weights': 'distance'}\n",
      "0.884214 (0.012560) with: {'metric': 'minkowski', 'n_neighbors': 15, 'weights': 'uniform'}\n",
      "0.887001 (0.013708) with: {'metric': 'minkowski', 'n_neighbors': 15, 'weights': 'distance'}\n",
      "0.885098 (0.013240) with: {'metric': 'minkowski', 'n_neighbors': 17, 'weights': 'uniform'}\n",
      "0.887106 (0.014069) with: {'metric': 'minkowski', 'n_neighbors': 17, 'weights': 'distance'}\n",
      "0.883540 (0.015851) with: {'metric': 'minkowski', 'n_neighbors': 19, 'weights': 'uniform'}\n",
      "0.885070 (0.015095) with: {'metric': 'minkowski', 'n_neighbors': 19, 'weights': 'distance'}\n"
     ]
    }
   ],
   "source": [
    "# define models and parameters\n",
    "knn_model = KNeighborsClassifier()\n",
    "n_neighbors = range(1, 21, 2)\n",
    "weights = ['uniform', 'distance']\n",
    "metric = ['euclidean', 'manhattan', 'minkowski']\n",
    "# define grid search\n",
    "grid = dict(n_neighbors=n_neighbors,weights=weights,metric=metric)\n",
    "cv = StratifiedKFold(n_splits=10, shuffle=True)\n",
    "grid_search = GridSearchCV(estimator=knn_model, param_grid=grid, n_jobs=-1, cv=cv, scoring='f1',error_score=0)\n",
    "grid_result = grid_search.fit(FAMD_train_70p, y_train_70p)\n",
    "# summarize results\n",
    "print(\"Best: %f using %s\" % (grid_result.best_score_, grid_result.best_params_))\n",
    "means = grid_result.cv_results_['mean_test_score']\n",
    "stds = grid_result.cv_results_['std_test_score']\n",
    "params = grid_result.cv_results_['params']\n",
    "for mean, stdev, param in zip(means, stds, params):\n",
    "    print(\"%f (%f) with: %r\" % (mean, stdev, param))"
   ]
  },
  {
   "cell_type": "code",
   "execution_count": 29,
   "id": "20ee5565",
   "metadata": {},
   "outputs": [
    {
     "name": "stdout",
     "output_type": "stream",
     "text": [
      "Best: 0.885305 using {'metric': 'euclidean', 'n_neighbors': 7, 'weights': 'distance'}\n",
      "0.856164 (0.016470) with: {'metric': 'euclidean', 'n_neighbors': 1, 'weights': 'uniform'}\n",
      "0.856164 (0.016470) with: {'metric': 'euclidean', 'n_neighbors': 1, 'weights': 'distance'}\n",
      "0.875283 (0.012823) with: {'metric': 'euclidean', 'n_neighbors': 3, 'weights': 'uniform'}\n",
      "0.875922 (0.012662) with: {'metric': 'euclidean', 'n_neighbors': 3, 'weights': 'distance'}\n",
      "0.879860 (0.014325) with: {'metric': 'euclidean', 'n_neighbors': 5, 'weights': 'uniform'}\n",
      "0.881158 (0.013540) with: {'metric': 'euclidean', 'n_neighbors': 5, 'weights': 'distance'}\n",
      "0.882194 (0.015076) with: {'metric': 'euclidean', 'n_neighbors': 7, 'weights': 'uniform'}\n",
      "0.885305 (0.014415) with: {'metric': 'euclidean', 'n_neighbors': 7, 'weights': 'distance'}\n",
      "0.881397 (0.013914) with: {'metric': 'euclidean', 'n_neighbors': 9, 'weights': 'uniform'}\n",
      "0.883946 (0.013880) with: {'metric': 'euclidean', 'n_neighbors': 9, 'weights': 'distance'}\n",
      "0.881334 (0.012095) with: {'metric': 'euclidean', 'n_neighbors': 11, 'weights': 'uniform'}\n",
      "0.884284 (0.012491) with: {'metric': 'euclidean', 'n_neighbors': 11, 'weights': 'distance'}\n",
      "0.880857 (0.011572) with: {'metric': 'euclidean', 'n_neighbors': 13, 'weights': 'uniform'}\n",
      "0.884733 (0.012203) with: {'metric': 'euclidean', 'n_neighbors': 13, 'weights': 'distance'}\n",
      "0.880235 (0.011915) with: {'metric': 'euclidean', 'n_neighbors': 15, 'weights': 'uniform'}\n",
      "0.883310 (0.012357) with: {'metric': 'euclidean', 'n_neighbors': 15, 'weights': 'distance'}\n",
      "0.881544 (0.011779) with: {'metric': 'euclidean', 'n_neighbors': 17, 'weights': 'uniform'}\n",
      "0.883686 (0.011804) with: {'metric': 'euclidean', 'n_neighbors': 17, 'weights': 'distance'}\n",
      "0.878802 (0.010869) with: {'metric': 'euclidean', 'n_neighbors': 19, 'weights': 'uniform'}\n",
      "0.881734 (0.012269) with: {'metric': 'euclidean', 'n_neighbors': 19, 'weights': 'distance'}\n",
      "0.859428 (0.017569) with: {'metric': 'manhattan', 'n_neighbors': 1, 'weights': 'uniform'}\n",
      "0.859428 (0.017569) with: {'metric': 'manhattan', 'n_neighbors': 1, 'weights': 'distance'}\n",
      "0.876748 (0.012958) with: {'metric': 'manhattan', 'n_neighbors': 3, 'weights': 'uniform'}\n",
      "0.876219 (0.012399) with: {'metric': 'manhattan', 'n_neighbors': 3, 'weights': 'distance'}\n",
      "0.882247 (0.013029) with: {'metric': 'manhattan', 'n_neighbors': 5, 'weights': 'uniform'}\n",
      "0.882479 (0.012335) with: {'metric': 'manhattan', 'n_neighbors': 5, 'weights': 'distance'}\n",
      "0.881669 (0.013199) with: {'metric': 'manhattan', 'n_neighbors': 7, 'weights': 'uniform'}\n",
      "0.883899 (0.012450) with: {'metric': 'manhattan', 'n_neighbors': 7, 'weights': 'distance'}\n",
      "0.882052 (0.011453) with: {'metric': 'manhattan', 'n_neighbors': 9, 'weights': 'uniform'}\n",
      "0.884778 (0.011734) with: {'metric': 'manhattan', 'n_neighbors': 9, 'weights': 'distance'}\n",
      "0.881090 (0.012934) with: {'metric': 'manhattan', 'n_neighbors': 11, 'weights': 'uniform'}\n",
      "0.883738 (0.013340) with: {'metric': 'manhattan', 'n_neighbors': 11, 'weights': 'distance'}\n",
      "0.880200 (0.013147) with: {'metric': 'manhattan', 'n_neighbors': 13, 'weights': 'uniform'}\n",
      "0.883482 (0.013987) with: {'metric': 'manhattan', 'n_neighbors': 13, 'weights': 'distance'}\n",
      "0.878711 (0.012602) with: {'metric': 'manhattan', 'n_neighbors': 15, 'weights': 'uniform'}\n",
      "0.881246 (0.012868) with: {'metric': 'manhattan', 'n_neighbors': 15, 'weights': 'distance'}\n",
      "0.879111 (0.012106) with: {'metric': 'manhattan', 'n_neighbors': 17, 'weights': 'uniform'}\n",
      "0.882427 (0.013017) with: {'metric': 'manhattan', 'n_neighbors': 17, 'weights': 'distance'}\n",
      "0.875493 (0.015110) with: {'metric': 'manhattan', 'n_neighbors': 19, 'weights': 'uniform'}\n",
      "0.879119 (0.016121) with: {'metric': 'manhattan', 'n_neighbors': 19, 'weights': 'distance'}\n",
      "0.856164 (0.016470) with: {'metric': 'minkowski', 'n_neighbors': 1, 'weights': 'uniform'}\n",
      "0.856164 (0.016470) with: {'metric': 'minkowski', 'n_neighbors': 1, 'weights': 'distance'}\n",
      "0.875283 (0.012823) with: {'metric': 'minkowski', 'n_neighbors': 3, 'weights': 'uniform'}\n",
      "0.875922 (0.012662) with: {'metric': 'minkowski', 'n_neighbors': 3, 'weights': 'distance'}\n",
      "0.879860 (0.014325) with: {'metric': 'minkowski', 'n_neighbors': 5, 'weights': 'uniform'}\n",
      "0.881158 (0.013540) with: {'metric': 'minkowski', 'n_neighbors': 5, 'weights': 'distance'}\n",
      "0.882194 (0.015076) with: {'metric': 'minkowski', 'n_neighbors': 7, 'weights': 'uniform'}\n",
      "0.885305 (0.014415) with: {'metric': 'minkowski', 'n_neighbors': 7, 'weights': 'distance'}\n",
      "0.881397 (0.013914) with: {'metric': 'minkowski', 'n_neighbors': 9, 'weights': 'uniform'}\n",
      "0.883946 (0.013880) with: {'metric': 'minkowski', 'n_neighbors': 9, 'weights': 'distance'}\n",
      "0.881334 (0.012095) with: {'metric': 'minkowski', 'n_neighbors': 11, 'weights': 'uniform'}\n",
      "0.884284 (0.012491) with: {'metric': 'minkowski', 'n_neighbors': 11, 'weights': 'distance'}\n",
      "0.880857 (0.011572) with: {'metric': 'minkowski', 'n_neighbors': 13, 'weights': 'uniform'}\n",
      "0.884733 (0.012203) with: {'metric': 'minkowski', 'n_neighbors': 13, 'weights': 'distance'}\n",
      "0.880235 (0.011915) with: {'metric': 'minkowski', 'n_neighbors': 15, 'weights': 'uniform'}\n",
      "0.883310 (0.012357) with: {'metric': 'minkowski', 'n_neighbors': 15, 'weights': 'distance'}\n",
      "0.881544 (0.011779) with: {'metric': 'minkowski', 'n_neighbors': 17, 'weights': 'uniform'}\n",
      "0.883686 (0.011804) with: {'metric': 'minkowski', 'n_neighbors': 17, 'weights': 'distance'}\n",
      "0.878802 (0.010869) with: {'metric': 'minkowski', 'n_neighbors': 19, 'weights': 'uniform'}\n",
      "0.881734 (0.012269) with: {'metric': 'minkowski', 'n_neighbors': 19, 'weights': 'distance'}\n"
     ]
    }
   ],
   "source": [
    "# define models and parameters\n",
    "knn_model = KNeighborsClassifier()\n",
    "n_neighbors = range(1, 21, 2)\n",
    "weights = ['uniform', 'distance']\n",
    "metric = ['euclidean', 'manhattan', 'minkowski']\n",
    "# define grid search\n",
    "grid = dict(n_neighbors=n_neighbors,weights=weights,metric=metric)\n",
    "cv = StratifiedKFold(n_splits=10, shuffle=True)\n",
    "grid_search = GridSearchCV(estimator=knn_model, param_grid=grid, n_jobs=-1, cv=cv, scoring='f1',error_score=0)\n",
    "grid_result = grid_search.fit(FAMD_train_60p, y_train_60p)\n",
    "# summarize results\n",
    "print(\"Best: %f using %s\" % (grid_result.best_score_, grid_result.best_params_))\n",
    "means = grid_result.cv_results_['mean_test_score']\n",
    "stds = grid_result.cv_results_['std_test_score']\n",
    "params = grid_result.cv_results_['params']\n",
    "for mean, stdev, param in zip(means, stds, params):\n",
    "    print(\"%f (%f) with: %r\" % (mean, stdev, param))"
   ]
  },
  {
   "cell_type": "code",
   "execution_count": 30,
   "id": "5ea59969",
   "metadata": {},
   "outputs": [
    {
     "name": "stdout",
     "output_type": "stream",
     "text": [
      "Best: 0.880912 using {'metric': 'euclidean', 'n_neighbors': 11, 'weights': 'distance'}\n",
      "0.856748 (0.014967) with: {'metric': 'euclidean', 'n_neighbors': 1, 'weights': 'uniform'}\n",
      "0.856748 (0.014967) with: {'metric': 'euclidean', 'n_neighbors': 1, 'weights': 'distance'}\n",
      "0.874806 (0.010602) with: {'metric': 'euclidean', 'n_neighbors': 3, 'weights': 'uniform'}\n",
      "0.875680 (0.010776) with: {'metric': 'euclidean', 'n_neighbors': 3, 'weights': 'distance'}\n",
      "0.878562 (0.013540) with: {'metric': 'euclidean', 'n_neighbors': 5, 'weights': 'uniform'}\n",
      "0.880021 (0.012904) with: {'metric': 'euclidean', 'n_neighbors': 5, 'weights': 'distance'}\n",
      "0.878605 (0.011242) with: {'metric': 'euclidean', 'n_neighbors': 7, 'weights': 'uniform'}\n",
      "0.879581 (0.011498) with: {'metric': 'euclidean', 'n_neighbors': 7, 'weights': 'distance'}\n",
      "0.878829 (0.010422) with: {'metric': 'euclidean', 'n_neighbors': 9, 'weights': 'uniform'}\n",
      "0.880216 (0.010179) with: {'metric': 'euclidean', 'n_neighbors': 9, 'weights': 'distance'}\n",
      "0.879598 (0.013312) with: {'metric': 'euclidean', 'n_neighbors': 11, 'weights': 'uniform'}\n",
      "0.880912 (0.012866) with: {'metric': 'euclidean', 'n_neighbors': 11, 'weights': 'distance'}\n",
      "0.877871 (0.010028) with: {'metric': 'euclidean', 'n_neighbors': 13, 'weights': 'uniform'}\n",
      "0.879106 (0.009788) with: {'metric': 'euclidean', 'n_neighbors': 13, 'weights': 'distance'}\n",
      "0.876300 (0.010190) with: {'metric': 'euclidean', 'n_neighbors': 15, 'weights': 'uniform'}\n",
      "0.879107 (0.010405) with: {'metric': 'euclidean', 'n_neighbors': 15, 'weights': 'distance'}\n",
      "0.874501 (0.008375) with: {'metric': 'euclidean', 'n_neighbors': 17, 'weights': 'uniform'}\n",
      "0.877688 (0.006583) with: {'metric': 'euclidean', 'n_neighbors': 17, 'weights': 'distance'}\n",
      "0.874043 (0.008061) with: {'metric': 'euclidean', 'n_neighbors': 19, 'weights': 'uniform'}\n",
      "0.876814 (0.007669) with: {'metric': 'euclidean', 'n_neighbors': 19, 'weights': 'distance'}\n",
      "0.858047 (0.013918) with: {'metric': 'manhattan', 'n_neighbors': 1, 'weights': 'uniform'}\n",
      "0.858047 (0.013918) with: {'metric': 'manhattan', 'n_neighbors': 1, 'weights': 'distance'}\n",
      "0.878346 (0.011546) with: {'metric': 'manhattan', 'n_neighbors': 3, 'weights': 'uniform'}\n",
      "0.878994 (0.011680) with: {'metric': 'manhattan', 'n_neighbors': 3, 'weights': 'distance'}\n",
      "0.878926 (0.011449) with: {'metric': 'manhattan', 'n_neighbors': 5, 'weights': 'uniform'}\n",
      "0.880604 (0.011363) with: {'metric': 'manhattan', 'n_neighbors': 5, 'weights': 'distance'}\n",
      "0.878009 (0.011835) with: {'metric': 'manhattan', 'n_neighbors': 7, 'weights': 'uniform'}\n",
      "0.879950 (0.011179) with: {'metric': 'manhattan', 'n_neighbors': 7, 'weights': 'distance'}\n",
      "0.877944 (0.011900) with: {'metric': 'manhattan', 'n_neighbors': 9, 'weights': 'uniform'}\n",
      "0.880042 (0.012067) with: {'metric': 'manhattan', 'n_neighbors': 9, 'weights': 'distance'}\n",
      "0.876859 (0.010762) with: {'metric': 'manhattan', 'n_neighbors': 11, 'weights': 'uniform'}\n",
      "0.879674 (0.011874) with: {'metric': 'manhattan', 'n_neighbors': 11, 'weights': 'distance'}\n",
      "0.877110 (0.012166) with: {'metric': 'manhattan', 'n_neighbors': 13, 'weights': 'uniform'}\n",
      "0.879264 (0.011462) with: {'metric': 'manhattan', 'n_neighbors': 13, 'weights': 'distance'}\n",
      "0.875544 (0.011349) with: {'metric': 'manhattan', 'n_neighbors': 15, 'weights': 'uniform'}\n",
      "0.877271 (0.010289) with: {'metric': 'manhattan', 'n_neighbors': 15, 'weights': 'distance'}\n",
      "0.875848 (0.009667) with: {'metric': 'manhattan', 'n_neighbors': 17, 'weights': 'uniform'}\n",
      "0.876788 (0.009274) with: {'metric': 'manhattan', 'n_neighbors': 17, 'weights': 'distance'}\n",
      "0.876616 (0.009710) with: {'metric': 'manhattan', 'n_neighbors': 19, 'weights': 'uniform'}\n",
      "0.877834 (0.008827) with: {'metric': 'manhattan', 'n_neighbors': 19, 'weights': 'distance'}\n",
      "0.856748 (0.014967) with: {'metric': 'minkowski', 'n_neighbors': 1, 'weights': 'uniform'}\n",
      "0.856748 (0.014967) with: {'metric': 'minkowski', 'n_neighbors': 1, 'weights': 'distance'}\n",
      "0.874806 (0.010602) with: {'metric': 'minkowski', 'n_neighbors': 3, 'weights': 'uniform'}\n",
      "0.875680 (0.010776) with: {'metric': 'minkowski', 'n_neighbors': 3, 'weights': 'distance'}\n",
      "0.878562 (0.013540) with: {'metric': 'minkowski', 'n_neighbors': 5, 'weights': 'uniform'}\n",
      "0.880021 (0.012904) with: {'metric': 'minkowski', 'n_neighbors': 5, 'weights': 'distance'}\n",
      "0.878605 (0.011242) with: {'metric': 'minkowski', 'n_neighbors': 7, 'weights': 'uniform'}\n",
      "0.879581 (0.011498) with: {'metric': 'minkowski', 'n_neighbors': 7, 'weights': 'distance'}\n",
      "0.878829 (0.010422) with: {'metric': 'minkowski', 'n_neighbors': 9, 'weights': 'uniform'}\n",
      "0.880216 (0.010179) with: {'metric': 'minkowski', 'n_neighbors': 9, 'weights': 'distance'}\n",
      "0.879598 (0.013312) with: {'metric': 'minkowski', 'n_neighbors': 11, 'weights': 'uniform'}\n",
      "0.880912 (0.012866) with: {'metric': 'minkowski', 'n_neighbors': 11, 'weights': 'distance'}\n",
      "0.877871 (0.010028) with: {'metric': 'minkowski', 'n_neighbors': 13, 'weights': 'uniform'}\n",
      "0.879106 (0.009788) with: {'metric': 'minkowski', 'n_neighbors': 13, 'weights': 'distance'}\n",
      "0.876300 (0.010190) with: {'metric': 'minkowski', 'n_neighbors': 15, 'weights': 'uniform'}\n",
      "0.879107 (0.010405) with: {'metric': 'minkowski', 'n_neighbors': 15, 'weights': 'distance'}\n",
      "0.874501 (0.008375) with: {'metric': 'minkowski', 'n_neighbors': 17, 'weights': 'uniform'}\n",
      "0.877688 (0.006583) with: {'metric': 'minkowski', 'n_neighbors': 17, 'weights': 'distance'}\n",
      "0.874043 (0.008061) with: {'metric': 'minkowski', 'n_neighbors': 19, 'weights': 'uniform'}\n",
      "0.876814 (0.007669) with: {'metric': 'minkowski', 'n_neighbors': 19, 'weights': 'distance'}\n"
     ]
    }
   ],
   "source": [
    "# define models and parameters\n",
    "knn_model = KNeighborsClassifier()\n",
    "n_neighbors = range(1, 21, 2)\n",
    "weights = ['uniform', 'distance']\n",
    "metric = ['euclidean', 'manhattan', 'minkowski']\n",
    "# define grid search\n",
    "grid = dict(n_neighbors=n_neighbors,weights=weights,metric=metric)\n",
    "cv = StratifiedKFold(n_splits=10, shuffle=True)\n",
    "grid_search = GridSearchCV(estimator=knn_model, param_grid=grid, n_jobs=-1, cv=cv, scoring='f1',error_score=0)\n",
    "grid_result = grid_search.fit(FAMD_train_50p, y_train_50p)\n",
    "# summarize results\n",
    "print(\"Best: %f using %s\" % (grid_result.best_score_, grid_result.best_params_))\n",
    "means = grid_result.cv_results_['mean_test_score']\n",
    "stds = grid_result.cv_results_['std_test_score']\n",
    "params = grid_result.cv_results_['params']\n",
    "for mean, stdev, param in zip(means, stds, params):\n",
    "    print(\"%f (%f) with: %r\" % (mean, stdev, param))"
   ]
  },
  {
   "cell_type": "code",
   "execution_count": 31,
   "id": "51f65270",
   "metadata": {},
   "outputs": [
    {
     "name": "stdout",
     "output_type": "stream",
     "text": [
      "Best: 0.884576 using {'metric': 'manhattan', 'n_neighbors': 15, 'weights': 'distance'}\n",
      "0.858864 (0.014586) with: {'metric': 'euclidean', 'n_neighbors': 1, 'weights': 'uniform'}\n",
      "0.858864 (0.014586) with: {'metric': 'euclidean', 'n_neighbors': 1, 'weights': 'distance'}\n",
      "0.872076 (0.016124) with: {'metric': 'euclidean', 'n_neighbors': 3, 'weights': 'uniform'}\n",
      "0.872596 (0.015807) with: {'metric': 'euclidean', 'n_neighbors': 3, 'weights': 'distance'}\n",
      "0.876303 (0.015730) with: {'metric': 'euclidean', 'n_neighbors': 5, 'weights': 'uniform'}\n",
      "0.878404 (0.017220) with: {'metric': 'euclidean', 'n_neighbors': 5, 'weights': 'distance'}\n",
      "0.880184 (0.022302) with: {'metric': 'euclidean', 'n_neighbors': 7, 'weights': 'uniform'}\n",
      "0.882178 (0.022361) with: {'metric': 'euclidean', 'n_neighbors': 7, 'weights': 'distance'}\n",
      "0.880465 (0.021669) with: {'metric': 'euclidean', 'n_neighbors': 9, 'weights': 'uniform'}\n",
      "0.882241 (0.021210) with: {'metric': 'euclidean', 'n_neighbors': 9, 'weights': 'distance'}\n",
      "0.879573 (0.020048) with: {'metric': 'euclidean', 'n_neighbors': 11, 'weights': 'uniform'}\n",
      "0.883035 (0.018859) with: {'metric': 'euclidean', 'n_neighbors': 11, 'weights': 'distance'}\n",
      "0.879843 (0.017435) with: {'metric': 'euclidean', 'n_neighbors': 13, 'weights': 'uniform'}\n",
      "0.882767 (0.017322) with: {'metric': 'euclidean', 'n_neighbors': 13, 'weights': 'distance'}\n",
      "0.877917 (0.020996) with: {'metric': 'euclidean', 'n_neighbors': 15, 'weights': 'uniform'}\n",
      "0.879990 (0.019875) with: {'metric': 'euclidean', 'n_neighbors': 15, 'weights': 'distance'}\n",
      "0.879742 (0.022735) with: {'metric': 'euclidean', 'n_neighbors': 17, 'weights': 'uniform'}\n",
      "0.881720 (0.021174) with: {'metric': 'euclidean', 'n_neighbors': 17, 'weights': 'distance'}\n",
      "0.877782 (0.021881) with: {'metric': 'euclidean', 'n_neighbors': 19, 'weights': 'uniform'}\n",
      "0.880956 (0.021838) with: {'metric': 'euclidean', 'n_neighbors': 19, 'weights': 'distance'}\n",
      "0.854707 (0.015301) with: {'metric': 'manhattan', 'n_neighbors': 1, 'weights': 'uniform'}\n",
      "0.854707 (0.015301) with: {'metric': 'manhattan', 'n_neighbors': 1, 'weights': 'distance'}\n",
      "0.875768 (0.015659) with: {'metric': 'manhattan', 'n_neighbors': 3, 'weights': 'uniform'}\n",
      "0.876552 (0.015202) with: {'metric': 'manhattan', 'n_neighbors': 3, 'weights': 'distance'}\n",
      "0.874853 (0.019658) with: {'metric': 'manhattan', 'n_neighbors': 5, 'weights': 'uniform'}\n",
      "0.877531 (0.019624) with: {'metric': 'manhattan', 'n_neighbors': 5, 'weights': 'distance'}\n",
      "0.876604 (0.020439) with: {'metric': 'manhattan', 'n_neighbors': 7, 'weights': 'uniform'}\n",
      "0.878758 (0.020148) with: {'metric': 'manhattan', 'n_neighbors': 7, 'weights': 'distance'}\n",
      "0.878974 (0.020211) with: {'metric': 'manhattan', 'n_neighbors': 9, 'weights': 'uniform'}\n",
      "0.881529 (0.019299) with: {'metric': 'manhattan', 'n_neighbors': 9, 'weights': 'distance'}\n",
      "0.875888 (0.022636) with: {'metric': 'manhattan', 'n_neighbors': 11, 'weights': 'uniform'}\n",
      "0.879818 (0.021877) with: {'metric': 'manhattan', 'n_neighbors': 11, 'weights': 'distance'}\n",
      "0.878184 (0.019638) with: {'metric': 'manhattan', 'n_neighbors': 13, 'weights': 'uniform'}\n",
      "0.881727 (0.019724) with: {'metric': 'manhattan', 'n_neighbors': 13, 'weights': 'distance'}\n",
      "0.878780 (0.019301) with: {'metric': 'manhattan', 'n_neighbors': 15, 'weights': 'uniform'}\n",
      "0.884576 (0.020277) with: {'metric': 'manhattan', 'n_neighbors': 15, 'weights': 'distance'}\n",
      "0.876651 (0.019962) with: {'metric': 'manhattan', 'n_neighbors': 17, 'weights': 'uniform'}\n",
      "0.880182 (0.020112) with: {'metric': 'manhattan', 'n_neighbors': 17, 'weights': 'distance'}\n",
      "0.877328 (0.020871) with: {'metric': 'manhattan', 'n_neighbors': 19, 'weights': 'uniform'}\n",
      "0.881514 (0.020137) with: {'metric': 'manhattan', 'n_neighbors': 19, 'weights': 'distance'}\n",
      "0.858864 (0.014586) with: {'metric': 'minkowski', 'n_neighbors': 1, 'weights': 'uniform'}\n",
      "0.858864 (0.014586) with: {'metric': 'minkowski', 'n_neighbors': 1, 'weights': 'distance'}\n",
      "0.872076 (0.016124) with: {'metric': 'minkowski', 'n_neighbors': 3, 'weights': 'uniform'}\n",
      "0.872596 (0.015807) with: {'metric': 'minkowski', 'n_neighbors': 3, 'weights': 'distance'}\n",
      "0.876303 (0.015730) with: {'metric': 'minkowski', 'n_neighbors': 5, 'weights': 'uniform'}\n",
      "0.878404 (0.017220) with: {'metric': 'minkowski', 'n_neighbors': 5, 'weights': 'distance'}\n",
      "0.880184 (0.022302) with: {'metric': 'minkowski', 'n_neighbors': 7, 'weights': 'uniform'}\n",
      "0.882178 (0.022361) with: {'metric': 'minkowski', 'n_neighbors': 7, 'weights': 'distance'}\n",
      "0.880465 (0.021669) with: {'metric': 'minkowski', 'n_neighbors': 9, 'weights': 'uniform'}\n",
      "0.882241 (0.021210) with: {'metric': 'minkowski', 'n_neighbors': 9, 'weights': 'distance'}\n",
      "0.879573 (0.020048) with: {'metric': 'minkowski', 'n_neighbors': 11, 'weights': 'uniform'}\n",
      "0.883035 (0.018859) with: {'metric': 'minkowski', 'n_neighbors': 11, 'weights': 'distance'}\n",
      "0.879843 (0.017435) with: {'metric': 'minkowski', 'n_neighbors': 13, 'weights': 'uniform'}\n",
      "0.882767 (0.017322) with: {'metric': 'minkowski', 'n_neighbors': 13, 'weights': 'distance'}\n",
      "0.877917 (0.020996) with: {'metric': 'minkowski', 'n_neighbors': 15, 'weights': 'uniform'}\n",
      "0.879990 (0.019875) with: {'metric': 'minkowski', 'n_neighbors': 15, 'weights': 'distance'}\n",
      "0.879742 (0.022735) with: {'metric': 'minkowski', 'n_neighbors': 17, 'weights': 'uniform'}\n",
      "0.881720 (0.021174) with: {'metric': 'minkowski', 'n_neighbors': 17, 'weights': 'distance'}\n",
      "0.877782 (0.021881) with: {'metric': 'minkowski', 'n_neighbors': 19, 'weights': 'uniform'}\n",
      "0.880956 (0.021838) with: {'metric': 'minkowski', 'n_neighbors': 19, 'weights': 'distance'}\n"
     ]
    }
   ],
   "source": [
    "# define models and parameters\n",
    "knn_model = KNeighborsClassifier()\n",
    "n_neighbors = range(1, 21, 2)\n",
    "weights = ['uniform', 'distance']\n",
    "metric = ['euclidean', 'manhattan', 'minkowski']\n",
    "# define grid search\n",
    "grid = dict(n_neighbors=n_neighbors,weights=weights,metric=metric)\n",
    "cv = StratifiedKFold(n_splits=10, shuffle=True)\n",
    "grid_search = GridSearchCV(estimator=knn_model, param_grid=grid, n_jobs=-1, cv=cv, scoring='f1',error_score=0)\n",
    "grid_result = grid_search.fit(FAMD_train_40p, y_train_40p)\n",
    "# summarize results\n",
    "print(\"Best: %f using %s\" % (grid_result.best_score_, grid_result.best_params_))\n",
    "means = grid_result.cv_results_['mean_test_score']\n",
    "stds = grid_result.cv_results_['std_test_score']\n",
    "params = grid_result.cv_results_['params']\n",
    "for mean, stdev, param in zip(means, stds, params):\n",
    "    print(\"%f (%f) with: %r\" % (mean, stdev, param))"
   ]
  },
  {
   "cell_type": "code",
   "execution_count": 32,
   "id": "093693d6",
   "metadata": {},
   "outputs": [
    {
     "name": "stdout",
     "output_type": "stream",
     "text": [
      "Best: 0.879663 using {'metric': 'manhattan', 'n_neighbors': 7, 'weights': 'distance'}\n",
      "0.859293 (0.018557) with: {'metric': 'euclidean', 'n_neighbors': 1, 'weights': 'uniform'}\n",
      "0.859293 (0.018557) with: {'metric': 'euclidean', 'n_neighbors': 1, 'weights': 'distance'}\n",
      "0.867036 (0.016293) with: {'metric': 'euclidean', 'n_neighbors': 3, 'weights': 'uniform'}\n",
      "0.867570 (0.016138) with: {'metric': 'euclidean', 'n_neighbors': 3, 'weights': 'distance'}\n",
      "0.872014 (0.010339) with: {'metric': 'euclidean', 'n_neighbors': 5, 'weights': 'uniform'}\n",
      "0.873248 (0.010347) with: {'metric': 'euclidean', 'n_neighbors': 5, 'weights': 'distance'}\n",
      "0.873425 (0.013784) with: {'metric': 'euclidean', 'n_neighbors': 7, 'weights': 'uniform'}\n",
      "0.875145 (0.013307) with: {'metric': 'euclidean', 'n_neighbors': 7, 'weights': 'distance'}\n",
      "0.871280 (0.016355) with: {'metric': 'euclidean', 'n_neighbors': 9, 'weights': 'uniform'}\n",
      "0.873587 (0.016027) with: {'metric': 'euclidean', 'n_neighbors': 9, 'weights': 'distance'}\n",
      "0.870308 (0.015767) with: {'metric': 'euclidean', 'n_neighbors': 11, 'weights': 'uniform'}\n",
      "0.873504 (0.015978) with: {'metric': 'euclidean', 'n_neighbors': 11, 'weights': 'distance'}\n",
      "0.873558 (0.015767) with: {'metric': 'euclidean', 'n_neighbors': 13, 'weights': 'uniform'}\n",
      "0.878199 (0.015033) with: {'metric': 'euclidean', 'n_neighbors': 13, 'weights': 'distance'}\n",
      "0.870836 (0.017833) with: {'metric': 'euclidean', 'n_neighbors': 15, 'weights': 'uniform'}\n",
      "0.874013 (0.017284) with: {'metric': 'euclidean', 'n_neighbors': 15, 'weights': 'distance'}\n",
      "0.872128 (0.018062) with: {'metric': 'euclidean', 'n_neighbors': 17, 'weights': 'uniform'}\n",
      "0.874531 (0.016856) with: {'metric': 'euclidean', 'n_neighbors': 17, 'weights': 'distance'}\n",
      "0.868935 (0.018165) with: {'metric': 'euclidean', 'n_neighbors': 19, 'weights': 'uniform'}\n",
      "0.873546 (0.016913) with: {'metric': 'euclidean', 'n_neighbors': 19, 'weights': 'distance'}\n",
      "0.857004 (0.022085) with: {'metric': 'manhattan', 'n_neighbors': 1, 'weights': 'uniform'}\n",
      "0.857004 (0.022085) with: {'metric': 'manhattan', 'n_neighbors': 1, 'weights': 'distance'}\n",
      "0.868506 (0.014050) with: {'metric': 'manhattan', 'n_neighbors': 3, 'weights': 'uniform'}\n",
      "0.869473 (0.015024) with: {'metric': 'manhattan', 'n_neighbors': 3, 'weights': 'distance'}\n",
      "0.877487 (0.012562) with: {'metric': 'manhattan', 'n_neighbors': 5, 'weights': 'uniform'}\n",
      "0.877479 (0.012866) with: {'metric': 'manhattan', 'n_neighbors': 5, 'weights': 'distance'}\n",
      "0.877403 (0.014201) with: {'metric': 'manhattan', 'n_neighbors': 7, 'weights': 'uniform'}\n",
      "0.879663 (0.014945) with: {'metric': 'manhattan', 'n_neighbors': 7, 'weights': 'distance'}\n",
      "0.876357 (0.012892) with: {'metric': 'manhattan', 'n_neighbors': 9, 'weights': 'uniform'}\n",
      "0.878670 (0.012994) with: {'metric': 'manhattan', 'n_neighbors': 9, 'weights': 'distance'}\n",
      "0.874408 (0.016310) with: {'metric': 'manhattan', 'n_neighbors': 11, 'weights': 'uniform'}\n",
      "0.878292 (0.015139) with: {'metric': 'manhattan', 'n_neighbors': 11, 'weights': 'distance'}\n",
      "0.875890 (0.014149) with: {'metric': 'manhattan', 'n_neighbors': 13, 'weights': 'uniform'}\n",
      "0.878531 (0.014888) with: {'metric': 'manhattan', 'n_neighbors': 13, 'weights': 'distance'}\n",
      "0.872193 (0.013970) with: {'metric': 'manhattan', 'n_neighbors': 15, 'weights': 'uniform'}\n",
      "0.876117 (0.013611) with: {'metric': 'manhattan', 'n_neighbors': 15, 'weights': 'distance'}\n",
      "0.870806 (0.011730) with: {'metric': 'manhattan', 'n_neighbors': 17, 'weights': 'uniform'}\n",
      "0.875200 (0.011919) with: {'metric': 'manhattan', 'n_neighbors': 17, 'weights': 'distance'}\n",
      "0.874142 (0.012547) with: {'metric': 'manhattan', 'n_neighbors': 19, 'weights': 'uniform'}\n",
      "0.876717 (0.013155) with: {'metric': 'manhattan', 'n_neighbors': 19, 'weights': 'distance'}\n",
      "0.859293 (0.018557) with: {'metric': 'minkowski', 'n_neighbors': 1, 'weights': 'uniform'}\n",
      "0.859293 (0.018557) with: {'metric': 'minkowski', 'n_neighbors': 1, 'weights': 'distance'}\n",
      "0.867036 (0.016293) with: {'metric': 'minkowski', 'n_neighbors': 3, 'weights': 'uniform'}\n",
      "0.867570 (0.016138) with: {'metric': 'minkowski', 'n_neighbors': 3, 'weights': 'distance'}\n",
      "0.872014 (0.010339) with: {'metric': 'minkowski', 'n_neighbors': 5, 'weights': 'uniform'}\n",
      "0.873248 (0.010347) with: {'metric': 'minkowski', 'n_neighbors': 5, 'weights': 'distance'}\n",
      "0.873425 (0.013784) with: {'metric': 'minkowski', 'n_neighbors': 7, 'weights': 'uniform'}\n",
      "0.875145 (0.013307) with: {'metric': 'minkowski', 'n_neighbors': 7, 'weights': 'distance'}\n",
      "0.871280 (0.016355) with: {'metric': 'minkowski', 'n_neighbors': 9, 'weights': 'uniform'}\n",
      "0.873587 (0.016027) with: {'metric': 'minkowski', 'n_neighbors': 9, 'weights': 'distance'}\n",
      "0.870308 (0.015767) with: {'metric': 'minkowski', 'n_neighbors': 11, 'weights': 'uniform'}\n",
      "0.873504 (0.015978) with: {'metric': 'minkowski', 'n_neighbors': 11, 'weights': 'distance'}\n",
      "0.873558 (0.015767) with: {'metric': 'minkowski', 'n_neighbors': 13, 'weights': 'uniform'}\n",
      "0.878199 (0.015033) with: {'metric': 'minkowski', 'n_neighbors': 13, 'weights': 'distance'}\n",
      "0.870836 (0.017833) with: {'metric': 'minkowski', 'n_neighbors': 15, 'weights': 'uniform'}\n",
      "0.874013 (0.017284) with: {'metric': 'minkowski', 'n_neighbors': 15, 'weights': 'distance'}\n",
      "0.872128 (0.018062) with: {'metric': 'minkowski', 'n_neighbors': 17, 'weights': 'uniform'}\n",
      "0.874531 (0.016856) with: {'metric': 'minkowski', 'n_neighbors': 17, 'weights': 'distance'}\n",
      "0.868935 (0.018165) with: {'metric': 'minkowski', 'n_neighbors': 19, 'weights': 'uniform'}\n",
      "0.873546 (0.016913) with: {'metric': 'minkowski', 'n_neighbors': 19, 'weights': 'distance'}\n"
     ]
    }
   ],
   "source": [
    "# define models and parameters\n",
    "knn_model = KNeighborsClassifier()\n",
    "n_neighbors = range(1, 21, 2)\n",
    "weights = ['uniform', 'distance']\n",
    "metric = ['euclidean', 'manhattan', 'minkowski']\n",
    "# define grid search\n",
    "grid = dict(n_neighbors=n_neighbors,weights=weights,metric=metric)\n",
    "cv = StratifiedKFold(n_splits=10, shuffle=True)\n",
    "grid_search = GridSearchCV(estimator=knn_model, param_grid=grid, n_jobs=-1, cv=cv, scoring='f1',error_score=0)\n",
    "grid_result = grid_search.fit(FAMD_train_30p, y_train_30p)\n",
    "# summarize results\n",
    "print(\"Best: %f using %s\" % (grid_result.best_score_, grid_result.best_params_))\n",
    "means = grid_result.cv_results_['mean_test_score']\n",
    "stds = grid_result.cv_results_['std_test_score']\n",
    "params = grid_result.cv_results_['params']\n",
    "for mean, stdev, param in zip(means, stds, params):\n",
    "    print(\"%f (%f) with: %r\" % (mean, stdev, param))"
   ]
  },
  {
   "cell_type": "code",
   "execution_count": 33,
   "id": "1f093340",
   "metadata": {},
   "outputs": [
    {
     "name": "stdout",
     "output_type": "stream",
     "text": [
      "Best: 0.883404 using {'metric': 'euclidean', 'n_neighbors': 5, 'weights': 'distance'}\n",
      "0.861546 (0.017924) with: {'metric': 'euclidean', 'n_neighbors': 1, 'weights': 'uniform'}\n",
      "0.861546 (0.017924) with: {'metric': 'euclidean', 'n_neighbors': 1, 'weights': 'distance'}\n",
      "0.874573 (0.016963) with: {'metric': 'euclidean', 'n_neighbors': 3, 'weights': 'uniform'}\n",
      "0.874263 (0.017190) with: {'metric': 'euclidean', 'n_neighbors': 3, 'weights': 'distance'}\n",
      "0.883023 (0.018914) with: {'metric': 'euclidean', 'n_neighbors': 5, 'weights': 'uniform'}\n",
      "0.883404 (0.020312) with: {'metric': 'euclidean', 'n_neighbors': 5, 'weights': 'distance'}\n",
      "0.877155 (0.017494) with: {'metric': 'euclidean', 'n_neighbors': 7, 'weights': 'uniform'}\n",
      "0.876731 (0.017550) with: {'metric': 'euclidean', 'n_neighbors': 7, 'weights': 'distance'}\n",
      "0.876780 (0.018047) with: {'metric': 'euclidean', 'n_neighbors': 9, 'weights': 'uniform'}\n",
      "0.878499 (0.017953) with: {'metric': 'euclidean', 'n_neighbors': 9, 'weights': 'distance'}\n",
      "0.875228 (0.015266) with: {'metric': 'euclidean', 'n_neighbors': 11, 'weights': 'uniform'}\n",
      "0.877290 (0.013171) with: {'metric': 'euclidean', 'n_neighbors': 11, 'weights': 'distance'}\n",
      "0.877622 (0.017573) with: {'metric': 'euclidean', 'n_neighbors': 13, 'weights': 'uniform'}\n",
      "0.878644 (0.014165) with: {'metric': 'euclidean', 'n_neighbors': 13, 'weights': 'distance'}\n",
      "0.875767 (0.016926) with: {'metric': 'euclidean', 'n_neighbors': 15, 'weights': 'uniform'}\n",
      "0.878393 (0.017380) with: {'metric': 'euclidean', 'n_neighbors': 15, 'weights': 'distance'}\n",
      "0.873361 (0.014769) with: {'metric': 'euclidean', 'n_neighbors': 17, 'weights': 'uniform'}\n",
      "0.874412 (0.015399) with: {'metric': 'euclidean', 'n_neighbors': 17, 'weights': 'distance'}\n",
      "0.871010 (0.016298) with: {'metric': 'euclidean', 'n_neighbors': 19, 'weights': 'uniform'}\n",
      "0.872570 (0.015086) with: {'metric': 'euclidean', 'n_neighbors': 19, 'weights': 'distance'}\n",
      "0.863704 (0.012297) with: {'metric': 'manhattan', 'n_neighbors': 1, 'weights': 'uniform'}\n",
      "0.863704 (0.012297) with: {'metric': 'manhattan', 'n_neighbors': 1, 'weights': 'distance'}\n",
      "0.876192 (0.018035) with: {'metric': 'manhattan', 'n_neighbors': 3, 'weights': 'uniform'}\n",
      "0.875772 (0.017856) with: {'metric': 'manhattan', 'n_neighbors': 3, 'weights': 'distance'}\n",
      "0.874420 (0.020609) with: {'metric': 'manhattan', 'n_neighbors': 5, 'weights': 'uniform'}\n",
      "0.874420 (0.020609) with: {'metric': 'manhattan', 'n_neighbors': 5, 'weights': 'distance'}\n",
      "0.874044 (0.019276) with: {'metric': 'manhattan', 'n_neighbors': 7, 'weights': 'uniform'}\n",
      "0.875376 (0.017686) with: {'metric': 'manhattan', 'n_neighbors': 7, 'weights': 'distance'}\n",
      "0.874769 (0.017707) with: {'metric': 'manhattan', 'n_neighbors': 9, 'weights': 'uniform'}\n",
      "0.876089 (0.017004) with: {'metric': 'manhattan', 'n_neighbors': 9, 'weights': 'distance'}\n",
      "0.876773 (0.021156) with: {'metric': 'manhattan', 'n_neighbors': 11, 'weights': 'uniform'}\n",
      "0.877383 (0.019969) with: {'metric': 'manhattan', 'n_neighbors': 11, 'weights': 'distance'}\n",
      "0.874435 (0.017058) with: {'metric': 'manhattan', 'n_neighbors': 13, 'weights': 'uniform'}\n",
      "0.876760 (0.015346) with: {'metric': 'manhattan', 'n_neighbors': 13, 'weights': 'distance'}\n",
      "0.870855 (0.016416) with: {'metric': 'manhattan', 'n_neighbors': 15, 'weights': 'uniform'}\n",
      "0.873837 (0.016011) with: {'metric': 'manhattan', 'n_neighbors': 15, 'weights': 'distance'}\n",
      "0.868867 (0.014236) with: {'metric': 'manhattan', 'n_neighbors': 17, 'weights': 'uniform'}\n",
      "0.871338 (0.014516) with: {'metric': 'manhattan', 'n_neighbors': 17, 'weights': 'distance'}\n",
      "0.867082 (0.016873) with: {'metric': 'manhattan', 'n_neighbors': 19, 'weights': 'uniform'}\n",
      "0.868741 (0.015750) with: {'metric': 'manhattan', 'n_neighbors': 19, 'weights': 'distance'}\n",
      "0.861546 (0.017924) with: {'metric': 'minkowski', 'n_neighbors': 1, 'weights': 'uniform'}\n",
      "0.861546 (0.017924) with: {'metric': 'minkowski', 'n_neighbors': 1, 'weights': 'distance'}\n",
      "0.874573 (0.016963) with: {'metric': 'minkowski', 'n_neighbors': 3, 'weights': 'uniform'}\n",
      "0.874263 (0.017190) with: {'metric': 'minkowski', 'n_neighbors': 3, 'weights': 'distance'}\n",
      "0.883023 (0.018914) with: {'metric': 'minkowski', 'n_neighbors': 5, 'weights': 'uniform'}\n",
      "0.883404 (0.020312) with: {'metric': 'minkowski', 'n_neighbors': 5, 'weights': 'distance'}\n",
      "0.877155 (0.017494) with: {'metric': 'minkowski', 'n_neighbors': 7, 'weights': 'uniform'}\n",
      "0.876731 (0.017550) with: {'metric': 'minkowski', 'n_neighbors': 7, 'weights': 'distance'}\n",
      "0.876780 (0.018047) with: {'metric': 'minkowski', 'n_neighbors': 9, 'weights': 'uniform'}\n",
      "0.878499 (0.017953) with: {'metric': 'minkowski', 'n_neighbors': 9, 'weights': 'distance'}\n",
      "0.875228 (0.015266) with: {'metric': 'minkowski', 'n_neighbors': 11, 'weights': 'uniform'}\n",
      "0.877290 (0.013171) with: {'metric': 'minkowski', 'n_neighbors': 11, 'weights': 'distance'}\n",
      "0.877622 (0.017573) with: {'metric': 'minkowski', 'n_neighbors': 13, 'weights': 'uniform'}\n",
      "0.878644 (0.014165) with: {'metric': 'minkowski', 'n_neighbors': 13, 'weights': 'distance'}\n",
      "0.875767 (0.016926) with: {'metric': 'minkowski', 'n_neighbors': 15, 'weights': 'uniform'}\n",
      "0.878393 (0.017380) with: {'metric': 'minkowski', 'n_neighbors': 15, 'weights': 'distance'}\n",
      "0.873361 (0.014769) with: {'metric': 'minkowski', 'n_neighbors': 17, 'weights': 'uniform'}\n",
      "0.874412 (0.015399) with: {'metric': 'minkowski', 'n_neighbors': 17, 'weights': 'distance'}\n",
      "0.871010 (0.016298) with: {'metric': 'minkowski', 'n_neighbors': 19, 'weights': 'uniform'}\n",
      "0.872570 (0.015086) with: {'metric': 'minkowski', 'n_neighbors': 19, 'weights': 'distance'}\n"
     ]
    }
   ],
   "source": [
    "# define models and parameters\n",
    "knn_model = KNeighborsClassifier()\n",
    "n_neighbors = range(1, 21, 2)\n",
    "weights = ['uniform', 'distance']\n",
    "metric = ['euclidean', 'manhattan', 'minkowski']\n",
    "# define grid search\n",
    "grid = dict(n_neighbors=n_neighbors,weights=weights,metric=metric)\n",
    "cv = StratifiedKFold(n_splits=10, shuffle=True)\n",
    "grid_search = GridSearchCV(estimator=knn_model, param_grid=grid, n_jobs=-1, cv=cv, scoring='f1',error_score=0)\n",
    "grid_result = grid_search.fit(FAMD_train_20p, y_train_20p)\n",
    "# summarize results\n",
    "print(\"Best: %f using %s\" % (grid_result.best_score_, grid_result.best_params_))\n",
    "means = grid_result.cv_results_['mean_test_score']\n",
    "stds = grid_result.cv_results_['std_test_score']\n",
    "params = grid_result.cv_results_['params']\n",
    "for mean, stdev, param in zip(means, stds, params):\n",
    "    print(\"%f (%f) with: %r\" % (mean, stdev, param))"
   ]
  },
  {
   "cell_type": "code",
   "execution_count": 34,
   "id": "131c8120",
   "metadata": {},
   "outputs": [
    {
     "name": "stdout",
     "output_type": "stream",
     "text": [
      "Best: 0.883395 using {'metric': 'manhattan', 'n_neighbors': 9, 'weights': 'uniform'}\n",
      "0.832317 (0.029264) with: {'metric': 'euclidean', 'n_neighbors': 1, 'weights': 'uniform'}\n",
      "0.832317 (0.029264) with: {'metric': 'euclidean', 'n_neighbors': 1, 'weights': 'distance'}\n",
      "0.867726 (0.026297) with: {'metric': 'euclidean', 'n_neighbors': 3, 'weights': 'uniform'}\n",
      "0.867726 (0.026297) with: {'metric': 'euclidean', 'n_neighbors': 3, 'weights': 'distance'}\n",
      "0.865391 (0.025719) with: {'metric': 'euclidean', 'n_neighbors': 5, 'weights': 'uniform'}\n",
      "0.866220 (0.026256) with: {'metric': 'euclidean', 'n_neighbors': 5, 'weights': 'distance'}\n",
      "0.870045 (0.022521) with: {'metric': 'euclidean', 'n_neighbors': 7, 'weights': 'uniform'}\n",
      "0.870045 (0.022521) with: {'metric': 'euclidean', 'n_neighbors': 7, 'weights': 'distance'}\n",
      "0.866392 (0.021311) with: {'metric': 'euclidean', 'n_neighbors': 9, 'weights': 'uniform'}\n",
      "0.868786 (0.022820) with: {'metric': 'euclidean', 'n_neighbors': 9, 'weights': 'distance'}\n",
      "0.863416 (0.023491) with: {'metric': 'euclidean', 'n_neighbors': 11, 'weights': 'uniform'}\n",
      "0.864979 (0.023939) with: {'metric': 'euclidean', 'n_neighbors': 11, 'weights': 'distance'}\n",
      "0.861187 (0.025821) with: {'metric': 'euclidean', 'n_neighbors': 13, 'weights': 'uniform'}\n",
      "0.863090 (0.024751) with: {'metric': 'euclidean', 'n_neighbors': 13, 'weights': 'distance'}\n",
      "0.858408 (0.021584) with: {'metric': 'euclidean', 'n_neighbors': 15, 'weights': 'uniform'}\n",
      "0.860011 (0.023210) with: {'metric': 'euclidean', 'n_neighbors': 15, 'weights': 'distance'}\n",
      "0.856853 (0.029549) with: {'metric': 'euclidean', 'n_neighbors': 17, 'weights': 'uniform'}\n",
      "0.857901 (0.028980) with: {'metric': 'euclidean', 'n_neighbors': 17, 'weights': 'distance'}\n",
      "0.853980 (0.030865) with: {'metric': 'euclidean', 'n_neighbors': 19, 'weights': 'uniform'}\n",
      "0.858264 (0.027765) with: {'metric': 'euclidean', 'n_neighbors': 19, 'weights': 'distance'}\n",
      "0.846036 (0.037603) with: {'metric': 'manhattan', 'n_neighbors': 1, 'weights': 'uniform'}\n",
      "0.846036 (0.037603) with: {'metric': 'manhattan', 'n_neighbors': 1, 'weights': 'distance'}\n",
      "0.870281 (0.024473) with: {'metric': 'manhattan', 'n_neighbors': 3, 'weights': 'uniform'}\n",
      "0.870281 (0.024473) with: {'metric': 'manhattan', 'n_neighbors': 3, 'weights': 'distance'}\n",
      "0.875081 (0.020586) with: {'metric': 'manhattan', 'n_neighbors': 5, 'weights': 'uniform'}\n",
      "0.875899 (0.021347) with: {'metric': 'manhattan', 'n_neighbors': 5, 'weights': 'distance'}\n",
      "0.875733 (0.022891) with: {'metric': 'manhattan', 'n_neighbors': 7, 'weights': 'uniform'}\n",
      "0.873667 (0.023890) with: {'metric': 'manhattan', 'n_neighbors': 7, 'weights': 'distance'}\n",
      "0.883395 (0.020299) with: {'metric': 'manhattan', 'n_neighbors': 9, 'weights': 'uniform'}\n",
      "0.882344 (0.021969) with: {'metric': 'manhattan', 'n_neighbors': 9, 'weights': 'distance'}\n",
      "0.873775 (0.019936) with: {'metric': 'manhattan', 'n_neighbors': 11, 'weights': 'uniform'}\n",
      "0.872724 (0.021161) with: {'metric': 'manhattan', 'n_neighbors': 11, 'weights': 'distance'}\n",
      "0.867847 (0.023942) with: {'metric': 'manhattan', 'n_neighbors': 13, 'weights': 'uniform'}\n",
      "0.867847 (0.023942) with: {'metric': 'manhattan', 'n_neighbors': 13, 'weights': 'distance'}\n",
      "0.867139 (0.024579) with: {'metric': 'manhattan', 'n_neighbors': 15, 'weights': 'uniform'}\n",
      "0.868994 (0.026089) with: {'metric': 'manhattan', 'n_neighbors': 15, 'weights': 'distance'}\n",
      "0.868364 (0.031069) with: {'metric': 'manhattan', 'n_neighbors': 17, 'weights': 'uniform'}\n",
      "0.867817 (0.031899) with: {'metric': 'manhattan', 'n_neighbors': 17, 'weights': 'distance'}\n",
      "0.865154 (0.029780) with: {'metric': 'manhattan', 'n_neighbors': 19, 'weights': 'uniform'}\n",
      "0.867006 (0.031712) with: {'metric': 'manhattan', 'n_neighbors': 19, 'weights': 'distance'}\n",
      "0.832317 (0.029264) with: {'metric': 'minkowski', 'n_neighbors': 1, 'weights': 'uniform'}\n",
      "0.832317 (0.029264) with: {'metric': 'minkowski', 'n_neighbors': 1, 'weights': 'distance'}\n",
      "0.867726 (0.026297) with: {'metric': 'minkowski', 'n_neighbors': 3, 'weights': 'uniform'}\n",
      "0.867726 (0.026297) with: {'metric': 'minkowski', 'n_neighbors': 3, 'weights': 'distance'}\n",
      "0.865391 (0.025719) with: {'metric': 'minkowski', 'n_neighbors': 5, 'weights': 'uniform'}\n",
      "0.866220 (0.026256) with: {'metric': 'minkowski', 'n_neighbors': 5, 'weights': 'distance'}\n",
      "0.870045 (0.022521) with: {'metric': 'minkowski', 'n_neighbors': 7, 'weights': 'uniform'}\n",
      "0.870045 (0.022521) with: {'metric': 'minkowski', 'n_neighbors': 7, 'weights': 'distance'}\n",
      "0.866392 (0.021311) with: {'metric': 'minkowski', 'n_neighbors': 9, 'weights': 'uniform'}\n",
      "0.868786 (0.022820) with: {'metric': 'minkowski', 'n_neighbors': 9, 'weights': 'distance'}\n",
      "0.863416 (0.023491) with: {'metric': 'minkowski', 'n_neighbors': 11, 'weights': 'uniform'}\n",
      "0.864979 (0.023939) with: {'metric': 'minkowski', 'n_neighbors': 11, 'weights': 'distance'}\n",
      "0.861187 (0.025821) with: {'metric': 'minkowski', 'n_neighbors': 13, 'weights': 'uniform'}\n",
      "0.863090 (0.024751) with: {'metric': 'minkowski', 'n_neighbors': 13, 'weights': 'distance'}\n",
      "0.858408 (0.021584) with: {'metric': 'minkowski', 'n_neighbors': 15, 'weights': 'uniform'}\n",
      "0.860011 (0.023210) with: {'metric': 'minkowski', 'n_neighbors': 15, 'weights': 'distance'}\n",
      "0.856853 (0.029549) with: {'metric': 'minkowski', 'n_neighbors': 17, 'weights': 'uniform'}\n",
      "0.857901 (0.028980) with: {'metric': 'minkowski', 'n_neighbors': 17, 'weights': 'distance'}\n",
      "0.853980 (0.030865) with: {'metric': 'minkowski', 'n_neighbors': 19, 'weights': 'uniform'}\n",
      "0.858264 (0.027765) with: {'metric': 'minkowski', 'n_neighbors': 19, 'weights': 'distance'}\n"
     ]
    }
   ],
   "source": [
    "# define models and parameters\n",
    "knn_model = KNeighborsClassifier()\n",
    "n_neighbors = range(1, 21, 2)\n",
    "weights = ['uniform', 'distance']\n",
    "metric = ['euclidean', 'manhattan', 'minkowski']\n",
    "# define grid search\n",
    "grid = dict(n_neighbors=n_neighbors,weights=weights,metric=metric)\n",
    "cv = StratifiedKFold(n_splits=10, shuffle=True)\n",
    "grid_search = GridSearchCV(estimator=knn_model, param_grid=grid, n_jobs=-1, cv=cv, scoring='f1',error_score=0)\n",
    "grid_result = grid_search.fit(FAMD_train_10p, y_train_10p)\n",
    "# summarize results\n",
    "print(\"Best: %f using %s\" % (grid_result.best_score_, grid_result.best_params_))\n",
    "means = grid_result.cv_results_['mean_test_score']\n",
    "stds = grid_result.cv_results_['std_test_score']\n",
    "params = grid_result.cv_results_['params']\n",
    "for mean, stdev, param in zip(means, stds, params):\n",
    "    print(\"%f (%f) with: %r\" % (mean, stdev, param))"
   ]
  },
  {
   "cell_type": "code",
   "execution_count": 40,
   "id": "adebcf79",
   "metadata": {},
   "outputs": [
    {
     "name": "stdout",
     "output_type": "stream",
     "text": [
      "              precision    recall  f1-score   support\n",
      "\n",
      "           0       0.77      0.46      0.57      1035\n",
      "           1       0.29      0.62      0.40       374\n",
      "\n",
      "    accuracy                           0.50      1409\n",
      "   macro avg       0.53      0.54      0.49      1409\n",
      "weighted avg       0.64      0.50      0.53      1409\n",
      "\n",
      "              precision    recall  f1-score   support\n",
      "\n",
      "           0       0.77      0.47      0.58      1035\n",
      "           1       0.29      0.61      0.40       374\n",
      "\n",
      "    accuracy                           0.51      1409\n",
      "   macro avg       0.53      0.54      0.49      1409\n",
      "weighted avg       0.64      0.51      0.53      1409\n",
      "\n",
      "              precision    recall  f1-score   support\n",
      "\n",
      "           0       0.78      0.44      0.56      1035\n",
      "           1       0.30      0.66      0.41       374\n",
      "\n",
      "    accuracy                           0.50      1409\n",
      "   macro avg       0.54      0.55      0.48      1409\n",
      "weighted avg       0.65      0.50      0.52      1409\n",
      "\n",
      "              precision    recall  f1-score   support\n",
      "\n",
      "           0       0.83      0.48      0.61      1035\n",
      "           1       0.33      0.73      0.46       374\n",
      "\n",
      "    accuracy                           0.54      1409\n",
      "   macro avg       0.58      0.60      0.53      1409\n",
      "weighted avg       0.70      0.54      0.57      1409\n",
      "\n",
      "              precision    recall  f1-score   support\n",
      "\n",
      "           0       0.74      0.42      0.53      1035\n",
      "           1       0.27      0.60      0.37       374\n",
      "\n",
      "    accuracy                           0.47      1409\n",
      "   macro avg       0.51      0.51      0.45      1409\n",
      "weighted avg       0.62      0.47      0.49      1409\n",
      "\n",
      "              precision    recall  f1-score   support\n",
      "\n",
      "           0       0.87      0.47      0.61      1035\n",
      "           1       0.36      0.80      0.49       374\n",
      "\n",
      "    accuracy                           0.56      1409\n",
      "   macro avg       0.61      0.64      0.55      1409\n",
      "weighted avg       0.73      0.56      0.58      1409\n",
      "\n",
      "              precision    recall  f1-score   support\n",
      "\n",
      "           0       0.87      0.44      0.59      1035\n",
      "           1       0.35      0.82      0.49       374\n",
      "\n",
      "    accuracy                           0.54      1409\n",
      "   macro avg       0.61      0.63      0.54      1409\n",
      "weighted avg       0.73      0.54      0.56      1409\n",
      "\n"
     ]
    }
   ],
   "source": [
    "knn_model_70 = KNeighborsClassifier(metric = \"euclidean\", n_neighbors = 9, weights = \"distance\")\n",
    "knn_model_60 = KNeighborsClassifier(metric = \"euclidean\", n_neighbors = 7, weights = \"distance\")\n",
    "knn_model_50 = KNeighborsClassifier(metric = \"euclidean\", n_neighbors = 11, weights = \"distance\")\n",
    "knn_model_40 = KNeighborsClassifier(metric = \"manhattan\", n_neighbors = 15, weights = \"distance\")\n",
    "knn_model_30 = KNeighborsClassifier(metric = \"manhattan\", n_neighbors = 7, weights = \"distance\")\n",
    "knn_model_20 = KNeighborsClassifier(metric = \"euclidean\", n_neighbors = 5, weights = \"distance\")\n",
    "knn_model_10 = KNeighborsClassifier(metric = \"manhattan\", n_neighbors = 9, weights = \"uniform\")\n",
    "\n",
    "\n",
    "knn_model_70.fit(FAMD_train_70p, y_train_70p)\n",
    "y_pred_70 = knn_model_70.predict(test_t)\n",
    "\n",
    "knn_model_60.fit(FAMD_train_60p, y_train_60p)\n",
    "y_pred_60 = knn_model_60.predict(test_t)\n",
    "\n",
    "knn_model_50.fit(FAMD_train_50p, y_train_50p)\n",
    "y_pred_50 = knn_model_50.predict(test_t)\n",
    "\n",
    "knn_model_40.fit(FAMD_train_40p, y_train_40p)\n",
    "y_pred_40 = knn_model_40.predict(test_t)\n",
    "\n",
    "knn_model_30.fit(FAMD_train_30p, y_train_30p)\n",
    "y_pred_30 = knn_model_30.predict(test_t)\n",
    "\n",
    "knn_model_20.fit(FAMD_train_20p, y_train_20p)\n",
    "y_pred_20 = knn_model_20.predict(test_t)\n",
    "\n",
    "knn_model_10.fit(FAMD_train_10p, y_train_10p)\n",
    "y_pred_10 = knn_model_10.predict(test_t)\n",
    "\n",
    "\n",
    "print(classification_report(y_test, y_pred_70))\n",
    "print(classification_report(y_test, y_pred_60))\n",
    "print(classification_report(y_test, y_pred_50))\n",
    "print(classification_report(y_test, y_pred_40))\n",
    "print(classification_report(y_test, y_pred_30))\n",
    "print(classification_report(y_test, y_pred_20))\n",
    "print(classification_report(y_test, y_pred_10))"
   ]
  },
  {
   "cell_type": "markdown",
   "id": "b86233bb",
   "metadata": {},
   "source": [
    "# Hybrid approach"
   ]
  },
  {
   "cell_type": "code",
   "execution_count": 41,
   "id": "b2f95c2e",
   "metadata": {},
   "outputs": [
    {
     "name": "stdout",
     "output_type": "stream",
     "text": [
      "For n_clusters = 2, silhouette score is 0.28914070568253053)\n",
      "For n_clusters = 3, silhouette score is 0.23330829710904064)\n",
      "For n_clusters = 4, silhouette score is 0.2424787445829663)\n",
      "For n_clusters = 5, silhouette score is 0.18637180286824748)\n",
      "For n_clusters = 6, silhouette score is 0.18433750950501895)\n",
      "For n_clusters = 7, silhouette score is 0.13947343374505888)\n",
      "For n_clusters = 8, silhouette score is 0.12453150604905466)\n"
     ]
    }
   ],
   "source": [
    "range_n_clusters = list (range(2,9))\n",
    "for n_clusters in range_n_clusters:\n",
    "    clusterer = KMeans(n_clusters=n_clusters)\n",
    "    preds = clusterer.fit_predict(test_t)\n",
    "    centers = clusterer.cluster_centers_\n",
    "    score = silhouette_score(test_t, preds)\n",
    "    print(\"For n_clusters = {}, silhouette score is {})\".format(n_clusters, score))"
   ]
  },
  {
   "cell_type": "markdown",
   "id": "bc478c3f",
   "metadata": {},
   "source": [
    "---"
   ]
  },
  {
   "cell_type": "code",
   "execution_count": 42,
   "id": "1d5f6d45",
   "metadata": {},
   "outputs": [],
   "source": [
    "kmeans = KMeans(n_clusters=2)\n",
    "train_clusters = kmeans.fit(FAMD_train_70p)\n",
    "test_clusters = train_clusters.predict(test_t)"
   ]
  },
  {
   "cell_type": "code",
   "execution_count": 43,
   "id": "d9aedb13",
   "metadata": {},
   "outputs": [],
   "source": [
    "FAMD_train_70p['cluster'] = train_clusters.labels_\n",
    "test_t['cluster'] = test_clusters"
   ]
  },
  {
   "cell_type": "code",
   "execution_count": 44,
   "id": "e5ba3f31",
   "metadata": {},
   "outputs": [
    {
     "name": "stdout",
     "output_type": "stream",
     "text": [
      "              precision    recall  f1-score   support\n",
      "\n",
      "           0       0.77      0.46      0.57      1035\n",
      "           1       0.29      0.62      0.40       374\n",
      "\n",
      "    accuracy                           0.50      1409\n",
      "   macro avg       0.53      0.54      0.49      1409\n",
      "weighted avg       0.64      0.50      0.53      1409\n",
      "\n"
     ]
    }
   ],
   "source": [
    "knn_model_70 = KNeighborsClassifier(metric = \"euclidean\", n_neighbors = 9, weights = \"distance\")\n",
    "knn_model_70.fit(FAMD_train_70p, y_train_70p)\n",
    "y_pred_70 = knn_model_70.predict(test_t)\n",
    "print(classification_report(y_test, y_pred_70))"
   ]
  },
  {
   "cell_type": "code",
   "execution_count": 45,
   "id": "f401083b",
   "metadata": {},
   "outputs": [
    {
     "name": "stdout",
     "output_type": "stream",
     "text": [
      "              precision    recall  f1-score   support\n",
      "\n",
      "           0       0.72      0.52      0.60      1035\n",
      "           1       0.25      0.45      0.32       374\n",
      "\n",
      "    accuracy                           0.50      1409\n",
      "   macro avg       0.49      0.48      0.46      1409\n",
      "weighted avg       0.60      0.50      0.53      1409\n",
      "\n"
     ]
    }
   ],
   "source": [
    "svm_model_70 = svm.SVC(C = 10, kernel = 'rbf')\n",
    "svm_model_70.fit(FAMD_train_70p, y_train_70p)\n",
    "y_pred_70 = svm_model_70.predict(test_t)\n",
    "print(classification_report(y_test, y_pred_70))"
   ]
  },
  {
   "cell_type": "markdown",
   "id": "b4c0feca",
   "metadata": {},
   "source": [
    "---"
   ]
  },
  {
   "cell_type": "code",
   "execution_count": 46,
   "id": "7f466545",
   "metadata": {},
   "outputs": [],
   "source": [
    "del test_t[\"cluster\"]"
   ]
  },
  {
   "cell_type": "code",
   "execution_count": 47,
   "id": "c349da05",
   "metadata": {},
   "outputs": [],
   "source": [
    "kmeans = KMeans(n_clusters=2)\n",
    "train_clusters = kmeans.fit(FAMD_train_60p)\n",
    "test_clusters = train_clusters.predict(test_t)"
   ]
  },
  {
   "cell_type": "code",
   "execution_count": 48,
   "id": "1553da13",
   "metadata": {},
   "outputs": [],
   "source": [
    "FAMD_train_60p['cluster'] = train_clusters.labels_\n",
    "test_t['cluster'] = test_clusters"
   ]
  },
  {
   "cell_type": "code",
   "execution_count": 49,
   "id": "5abd982c",
   "metadata": {},
   "outputs": [
    {
     "name": "stdout",
     "output_type": "stream",
     "text": [
      "              precision    recall  f1-score   support\n",
      "\n",
      "           0       0.77      0.47      0.58      1035\n",
      "           1       0.29      0.61      0.40       374\n",
      "\n",
      "    accuracy                           0.51      1409\n",
      "   macro avg       0.53      0.54      0.49      1409\n",
      "weighted avg       0.64      0.51      0.53      1409\n",
      "\n"
     ]
    }
   ],
   "source": [
    "knn_model_60 = KNeighborsClassifier(metric = \"euclidean\", n_neighbors = 7, weights = \"distance\")\n",
    "knn_model_60.fit(FAMD_train_60p, y_train_60p)\n",
    "y_pred_60 = knn_model_60.predict(test_t)\n",
    "print(classification_report(y_test, y_pred_60))"
   ]
  },
  {
   "cell_type": "code",
   "execution_count": 50,
   "id": "5b4e854d",
   "metadata": {},
   "outputs": [
    {
     "name": "stdout",
     "output_type": "stream",
     "text": [
      "              precision    recall  f1-score   support\n",
      "\n",
      "           0       0.72      0.53      0.61      1035\n",
      "           1       0.24      0.42      0.31       374\n",
      "\n",
      "    accuracy                           0.50      1409\n",
      "   macro avg       0.48      0.48      0.46      1409\n",
      "weighted avg       0.59      0.50      0.53      1409\n",
      "\n"
     ]
    }
   ],
   "source": [
    "svm_model_60 = svm.SVC(C = 10, kernel = 'rbf')\n",
    "svm_model_60.fit(FAMD_train_60p, y_train_60p)\n",
    "y_pred_60 = svm_model_60.predict(test_t)\n",
    "print(classification_report(y_test, y_pred_60))"
   ]
  },
  {
   "cell_type": "markdown",
   "id": "3d58f980",
   "metadata": {},
   "source": [
    "---"
   ]
  },
  {
   "cell_type": "code",
   "execution_count": 51,
   "id": "603c65a4",
   "metadata": {},
   "outputs": [],
   "source": [
    "del test_t[\"cluster\"]"
   ]
  },
  {
   "cell_type": "code",
   "execution_count": 52,
   "id": "8af29e9c",
   "metadata": {},
   "outputs": [],
   "source": [
    "kmeans = KMeans(n_clusters=2)\n",
    "train_clusters = kmeans.fit(FAMD_train_50p)\n",
    "test_clusters = train_clusters.predict(test_t)"
   ]
  },
  {
   "cell_type": "code",
   "execution_count": 53,
   "id": "f93b6fe0",
   "metadata": {},
   "outputs": [],
   "source": [
    "FAMD_train_50p['cluster'] = train_clusters.labels_\n",
    "test_t['cluster'] = test_clusters"
   ]
  },
  {
   "cell_type": "code",
   "execution_count": 54,
   "id": "68453349",
   "metadata": {},
   "outputs": [
    {
     "name": "stdout",
     "output_type": "stream",
     "text": [
      "              precision    recall  f1-score   support\n",
      "\n",
      "           0       0.78      0.44      0.56      1035\n",
      "           1       0.30      0.66      0.41       374\n",
      "\n",
      "    accuracy                           0.50      1409\n",
      "   macro avg       0.54      0.55      0.48      1409\n",
      "weighted avg       0.65      0.50      0.52      1409\n",
      "\n"
     ]
    }
   ],
   "source": [
    "knn_model_50 = KNeighborsClassifier(metric = \"euclidean\", n_neighbors = 11, weights = \"distance\")\n",
    "knn_model_50.fit(FAMD_train_50p, y_train_50p)\n",
    "y_pred_50 = knn_model_50.predict(test_t)\n",
    "print(classification_report(y_test, y_pred_50))"
   ]
  },
  {
   "cell_type": "code",
   "execution_count": 55,
   "id": "26d1e4c6",
   "metadata": {},
   "outputs": [
    {
     "name": "stdout",
     "output_type": "stream",
     "text": [
      "              precision    recall  f1-score   support\n",
      "\n",
      "           0       0.72      0.54      0.61      1035\n",
      "           1       0.25      0.42      0.31       374\n",
      "\n",
      "    accuracy                           0.50      1409\n",
      "   macro avg       0.48      0.48      0.46      1409\n",
      "weighted avg       0.59      0.50      0.53      1409\n",
      "\n"
     ]
    }
   ],
   "source": [
    "svm_model_50 = svm.SVC(C = 10, kernel = 'rbf')\n",
    "svm_model_50.fit(FAMD_train_50p, y_train_50p)\n",
    "y_pred_50 = svm_model_50.predict(test_t)\n",
    "print(classification_report(y_test, y_pred_50))"
   ]
  },
  {
   "cell_type": "markdown",
   "id": "b0fbfcad",
   "metadata": {},
   "source": [
    "---"
   ]
  },
  {
   "cell_type": "code",
   "execution_count": 56,
   "id": "4795d5a7",
   "metadata": {},
   "outputs": [],
   "source": [
    "del test_t[\"cluster\"]"
   ]
  },
  {
   "cell_type": "code",
   "execution_count": 57,
   "id": "ba48711c",
   "metadata": {},
   "outputs": [],
   "source": [
    "kmeans = KMeans(n_clusters=2)\n",
    "train_clusters = kmeans.fit(FAMD_train_40p)\n",
    "test_clusters = train_clusters.predict(test_t)"
   ]
  },
  {
   "cell_type": "code",
   "execution_count": 58,
   "id": "2a967b59",
   "metadata": {},
   "outputs": [],
   "source": [
    "FAMD_train_40p['cluster'] = train_clusters.labels_\n",
    "test_t['cluster'] = test_clusters"
   ]
  },
  {
   "cell_type": "code",
   "execution_count": 59,
   "id": "bf62519e",
   "metadata": {},
   "outputs": [
    {
     "name": "stdout",
     "output_type": "stream",
     "text": [
      "              precision    recall  f1-score   support\n",
      "\n",
      "           0       0.83      0.47      0.60      1035\n",
      "           1       0.33      0.73      0.46       374\n",
      "\n",
      "    accuracy                           0.54      1409\n",
      "   macro avg       0.58      0.60      0.53      1409\n",
      "weighted avg       0.70      0.54      0.56      1409\n",
      "\n"
     ]
    }
   ],
   "source": [
    "knn_model_40 = KNeighborsClassifier(metric = \"manhattan\", n_neighbors = 15, weights = \"distance\")\n",
    "knn_model_40.fit(FAMD_train_40p, y_train_40p)\n",
    "y_pred_40 = knn_model_40.predict(test_t)\n",
    "print(classification_report(y_test, y_pred_40))"
   ]
  },
  {
   "cell_type": "code",
   "execution_count": 60,
   "id": "a68b1104",
   "metadata": {},
   "outputs": [
    {
     "name": "stdout",
     "output_type": "stream",
     "text": [
      "              precision    recall  f1-score   support\n",
      "\n",
      "           0       0.72      0.52      0.61      1035\n",
      "           1       0.25      0.44      0.32       374\n",
      "\n",
      "    accuracy                           0.50      1409\n",
      "   macro avg       0.49      0.48      0.46      1409\n",
      "weighted avg       0.60      0.50      0.53      1409\n",
      "\n"
     ]
    }
   ],
   "source": [
    "svm_model_40 = svm.SVC(C = 10, kernel = 'rbf')\n",
    "svm_model_40.fit(FAMD_train_40p, y_train_40p)\n",
    "y_pred_40 = svm_model_40.predict(test_t)\n",
    "print(classification_report(y_test, y_pred_40))"
   ]
  },
  {
   "cell_type": "markdown",
   "id": "e0e43314",
   "metadata": {},
   "source": [
    "---"
   ]
  },
  {
   "cell_type": "code",
   "execution_count": 61,
   "id": "4f6636f9",
   "metadata": {},
   "outputs": [],
   "source": [
    "del test_t[\"cluster\"]"
   ]
  },
  {
   "cell_type": "code",
   "execution_count": 62,
   "id": "407317e8",
   "metadata": {},
   "outputs": [],
   "source": [
    "kmeans = KMeans(n_clusters=2)\n",
    "train_clusters = kmeans.fit(FAMD_train_30p)\n",
    "test_clusters = train_clusters.predict(test_t)"
   ]
  },
  {
   "cell_type": "code",
   "execution_count": 63,
   "id": "8551d9f1",
   "metadata": {},
   "outputs": [],
   "source": [
    "FAMD_train_30p['cluster'] = train_clusters.labels_\n",
    "test_t['cluster'] = test_clusters"
   ]
  },
  {
   "cell_type": "code",
   "execution_count": 64,
   "id": "8ac225e9",
   "metadata": {},
   "outputs": [
    {
     "name": "stdout",
     "output_type": "stream",
     "text": [
      "              precision    recall  f1-score   support\n",
      "\n",
      "           0       0.74      0.41      0.53      1035\n",
      "           1       0.27      0.60      0.37       374\n",
      "\n",
      "    accuracy                           0.46      1409\n",
      "   macro avg       0.51      0.51      0.45      1409\n",
      "weighted avg       0.62      0.46      0.49      1409\n",
      "\n"
     ]
    }
   ],
   "source": [
    "knn_model_30 = KNeighborsClassifier(metric = \"manhattan\", n_neighbors = 7, weights = \"distance\")\n",
    "knn_model_30.fit(FAMD_train_30p, y_train_30p)\n",
    "y_pred_30 = knn_model_30.predict(test_t)\n",
    "print(classification_report(y_test, y_pred_30))"
   ]
  },
  {
   "cell_type": "code",
   "execution_count": 65,
   "id": "88ae0ddd",
   "metadata": {},
   "outputs": [
    {
     "name": "stdout",
     "output_type": "stream",
     "text": [
      "              precision    recall  f1-score   support\n",
      "\n",
      "           0       0.68      0.50      0.58      1035\n",
      "           1       0.20      0.36      0.26       374\n",
      "\n",
      "    accuracy                           0.46      1409\n",
      "   macro avg       0.44      0.43      0.42      1409\n",
      "weighted avg       0.55      0.46      0.49      1409\n",
      "\n"
     ]
    }
   ],
   "source": [
    "svm_model_30 = svm.SVC(C = 10, kernel = 'rbf')\n",
    "svm_model_30.fit(FAMD_train_30p, y_train_30p)\n",
    "y_pred_30 = svm_model_30.predict(test_t)\n",
    "print(classification_report(y_test, y_pred_30))"
   ]
  },
  {
   "cell_type": "markdown",
   "id": "655974cd",
   "metadata": {},
   "source": [
    "---"
   ]
  },
  {
   "cell_type": "code",
   "execution_count": 66,
   "id": "4e3efc41",
   "metadata": {},
   "outputs": [],
   "source": [
    "del test_t[\"cluster\"]"
   ]
  },
  {
   "cell_type": "code",
   "execution_count": 67,
   "id": "103095b6",
   "metadata": {},
   "outputs": [],
   "source": [
    "kmeans = KMeans(n_clusters=2)\n",
    "train_clusters = kmeans.fit(FAMD_train_20p)\n",
    "test_clusters = train_clusters.predict(test_t)"
   ]
  },
  {
   "cell_type": "code",
   "execution_count": 68,
   "id": "afb92ea6",
   "metadata": {},
   "outputs": [],
   "source": [
    "FAMD_train_20p['cluster'] = train_clusters.labels_\n",
    "test_t['cluster'] = test_clusters"
   ]
  },
  {
   "cell_type": "code",
   "execution_count": 69,
   "id": "a84a46a5",
   "metadata": {},
   "outputs": [
    {
     "name": "stdout",
     "output_type": "stream",
     "text": [
      "              precision    recall  f1-score   support\n",
      "\n",
      "           0       0.87      0.47      0.61      1035\n",
      "           1       0.36      0.80      0.49       374\n",
      "\n",
      "    accuracy                           0.56      1409\n",
      "   macro avg       0.61      0.64      0.55      1409\n",
      "weighted avg       0.73      0.56      0.58      1409\n",
      "\n"
     ]
    }
   ],
   "source": [
    "knn_model_20 = KNeighborsClassifier(metric = \"euclidean\", n_neighbors = 5, weights = \"distance\")\n",
    "knn_model_20.fit(FAMD_train_20p, y_train_20p)\n",
    "y_pred_20 = knn_model_20.predict(test_t)\n",
    "print(classification_report(y_test, y_pred_20))"
   ]
  },
  {
   "cell_type": "code",
   "execution_count": 70,
   "id": "c147e024",
   "metadata": {},
   "outputs": [
    {
     "name": "stdout",
     "output_type": "stream",
     "text": [
      "              precision    recall  f1-score   support\n",
      "\n",
      "           0       0.79      0.59      0.67      1035\n",
      "           1       0.33      0.56      0.42       374\n",
      "\n",
      "    accuracy                           0.58      1409\n",
      "   macro avg       0.56      0.57      0.54      1409\n",
      "weighted avg       0.67      0.58      0.60      1409\n",
      "\n"
     ]
    }
   ],
   "source": [
    "svm_model_20 = svm.SVC(C = 10, kernel = 'rbf')\n",
    "svm_model_20.fit(FAMD_train_20p, y_train_20p)\n",
    "y_pred_20 = svm_model_20.predict(test_t)\n",
    "print(classification_report(y_test, y_pred_20))"
   ]
  },
  {
   "cell_type": "markdown",
   "id": "162c6ea0",
   "metadata": {},
   "source": [
    "---"
   ]
  },
  {
   "cell_type": "code",
   "execution_count": 71,
   "id": "17baf40e",
   "metadata": {},
   "outputs": [],
   "source": [
    "del test_t[\"cluster\"]"
   ]
  },
  {
   "cell_type": "code",
   "execution_count": 73,
   "id": "ecf765be",
   "metadata": {},
   "outputs": [],
   "source": [
    "kmeans = KMeans(n_clusters=2)\n",
    "train_clusters = kmeans.fit(FAMD_train_10p)\n",
    "test_clusters = train_clusters.predict(test_t)"
   ]
  },
  {
   "cell_type": "code",
   "execution_count": 75,
   "id": "04786f26",
   "metadata": {},
   "outputs": [],
   "source": [
    "FAMD_train_10p['cluster'] = train_clusters.labels_\n",
    "test_t['cluster'] = test_clusters"
   ]
  },
  {
   "cell_type": "code",
   "execution_count": 76,
   "id": "9134dab8",
   "metadata": {},
   "outputs": [
    {
     "name": "stdout",
     "output_type": "stream",
     "text": [
      "              precision    recall  f1-score   support\n",
      "\n",
      "           0       0.87      0.43      0.57      1035\n",
      "           1       0.34      0.83      0.49       374\n",
      "\n",
      "    accuracy                           0.53      1409\n",
      "   macro avg       0.61      0.63      0.53      1409\n",
      "weighted avg       0.73      0.53      0.55      1409\n",
      "\n"
     ]
    }
   ],
   "source": [
    "knn_model_10 = KNeighborsClassifier(metric = \"manhattan\", n_neighbors = 9, weights = \"uniform\")\n",
    "knn_model_10.fit(FAMD_train_10p, y_train_10p)\n",
    "y_pred_10 = knn_model_10.predict(test_t)\n"
   ]
  },
  {
   "cell_type": "code",
   "execution_count": 77,
   "id": "0fbd2219",
   "metadata": {},
   "outputs": [
    {
     "name": "stdout",
     "output_type": "stream",
     "text": [
      "              precision    recall  f1-score   support\n",
      "\n",
      "           0       0.82      0.67      0.73      1035\n",
      "           1       0.39      0.59      0.47       374\n",
      "\n",
      "    accuracy                           0.65      1409\n",
      "   macro avg       0.60      0.63      0.60      1409\n",
      "weighted avg       0.70      0.65      0.66      1409\n",
      "\n"
     ]
    }
   ],
   "source": [
    "svm_model_10 = svm.SVC(C = 1.0, kernel = 'rbf')\n",
    "svm_model_10.fit(FAMD_train_10p, y_train_10p)\n",
    "y_pred_10 = svm_model_10.predict(test_t)\n",
    "print(classification_report(y_test, y_pred_10))"
   ]
  }
 ],
 "metadata": {
  "kernelspec": {
   "display_name": "Python 3 (ipykernel)",
   "language": "python",
   "name": "python3"
  },
  "language_info": {
   "codemirror_mode": {
    "name": "ipython",
    "version": 3
   },
   "file_extension": ".py",
   "mimetype": "text/x-python",
   "name": "python",
   "nbconvert_exporter": "python",
   "pygments_lexer": "ipython3",
   "version": "3.8.3"
  }
 },
 "nbformat": 4,
 "nbformat_minor": 5
}
